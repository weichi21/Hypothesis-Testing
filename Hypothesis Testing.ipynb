{
 "cells": [
  {
   "cell_type": "markdown",
   "id": "f1efc1a3",
   "metadata": {},
   "source": [
    "### A/B Testing\n",
    "1. A/B testing is used to test different advertising scenaros. This involes splitting users into 'control' and 'treatment' groups.\n",
    "2. The point estimate (sample statistic): We need to generate a bootstrap distribution of sample means to create a list of sample means.\n",
    "3. `Z-scores`= $\\frac{Observation - Mean}{Standard deviaiton}$<br>\n",
    "4. `Standard Normal (Z) Distribution` :  with mean = 0 and standard deviaition = 1 .\n",
    "\n",
    "### P-values\n",
    "- `p-values` always between 0 and 1.\n",
    "`p-values` measure the strength of support for the `null hypothesis`, they measure the probability of obtaining a result, assuming the null hypothesis is true. <br>\n",
    "- **Large** `p-values` mean our statistic is producing a result that is likely **not in a tail** of our null distribution, and chance could be a good explanation for the result. -->**fail to reject ${H_0}$** <br>\n",
    "- **Small** `p-values` mean our statistic is producing a result likely **in the tail** of our null distribution.-->**reject ${H_0}$**\n",
    "\n",
    "- `norm.cdf()` is normal CDF (Cumulative distribution function) from `scipy.stats`.\n",
    "- The location `(loc)` specifies the mean. The scale `(scale)` specifies the standard deviation.\n",
    "- Left-tailed test --> use `norm.cdf()`.  ${H_0} < {H_1}$.\n",
    "- Right- tailed test --> use `1 - norm.cdf()`.  ${H_0} > {H_1}$.\n",
    "- Two- tailed test -->  ${H_0} \\neq {H_1}$.\n",
    "\n",
    "### Significance level ( $\\alpha$ )\n",
    "- Common values of $\\alpha$ are `0.2`, `0.1`, `0.05` and `0.01`.\n",
    "- If ${p}\\le\\alpha$, reject ${H_0}$.\n",
    "- $\\alpha$ should be set **prior** to conducting hypothesis test.\n",
    "\n",
    "### Deciding Between Z-Test and T-Test\n",
    "<img src=\"https://av-eks-blogoptimized.s3.amazonaws.com/Screenshot-from-2020-03-04-15-29-37.jpg\" style=\"height:300px\" /><br>\n",
    "- If the sample size is **large enough**, then the z-Test and t-Test will conclude with the same results. <br>\n",
    "- For a large sample, Sample Variance will be a better estimate of Population variance, so even if population variance is unknown we can use the z-test using sample variance.<br>\n",
    "- Similarly, for a Large Sample, we have a high degree of freedom. And since t-distribution approaches the normal distribution, the difference between the z score and t score is negligible.<br>\n",
    "- reference : https://www.analyticsvidhya.com/blog/2020/06/statistics-analytics-hypothesis-testing-z-test-t-test/#What_is_Hypothesis_Testing?"
   ]
  },
  {
   "cell_type": "markdown",
   "id": "cdee1883",
   "metadata": {},
   "source": [
    "|  | Z Test | T Test |\n",
    "| --- | --- | --- |\n",
    "| **Assumption** | Population standard deviation is known | Population standard deviation is unknown |\n",
    "| **Sample Size** | Large sample size ( n > 30) | Small sample size ( n < 30) |\n",
    "| **Distribution** | Z-distribution | T-distribution) |\n",
    "| **Degrees of Freedom** | Not applicable | n – 1 |"
   ]
  },
  {
   "cell_type": "code",
   "execution_count": 1,
   "id": "15650187",
   "metadata": {},
   "outputs": [],
   "source": [
    "import pandas as pd\n",
    "import numpy as np\n",
    "import matplotlib.pyplot as plt\n",
    "from IPython.display import display\n",
    "pd.options.display.max_rows = None\n",
    "pd.options.display.max_columns = None"
   ]
  },
  {
   "cell_type": "code",
   "execution_count": 2,
   "id": "12d12e1b",
   "metadata": {},
   "outputs": [],
   "source": [
    "late_shipments = pd.read_feather('/Users/florahuang/Desktop/practice datasets/late_shipments.feather')"
   ]
  },
  {
   "cell_type": "markdown",
   "id": "2a6e408a",
   "metadata": {},
   "source": [
    "## 1. One-Sample Test\n",
    "### Calculating the sample mean\n",
    "The `late_shipments` dataset contains supply chain data on the delivery of medical supplies. <br>Each row represents one delivery of a part. The **late** columns denotes whether or not the part was delivered late.<br>\n",
    "A value of **\"Yes\"** means that the part was delivered late, and a value of **\"No\"** means the part was delivered on time."
   ]
  },
  {
   "cell_type": "code",
   "execution_count": 3,
   "id": "f3f42d20",
   "metadata": {},
   "outputs": [
    {
     "data": {
      "text/html": [
       "<div>\n",
       "<style scoped>\n",
       "    .dataframe tbody tr th:only-of-type {\n",
       "        vertical-align: middle;\n",
       "    }\n",
       "\n",
       "    .dataframe tbody tr th {\n",
       "        vertical-align: top;\n",
       "    }\n",
       "\n",
       "    .dataframe thead th {\n",
       "        text-align: right;\n",
       "    }\n",
       "</style>\n",
       "<table border=\"1\" class=\"dataframe\">\n",
       "  <thead>\n",
       "    <tr style=\"text-align: right;\">\n",
       "      <th></th>\n",
       "      <th>id</th>\n",
       "      <th>country</th>\n",
       "      <th>managed_by</th>\n",
       "      <th>fulfill_via</th>\n",
       "      <th>vendor_inco_term</th>\n",
       "      <th>shipment_mode</th>\n",
       "      <th>late_delivery</th>\n",
       "      <th>late</th>\n",
       "      <th>product_group</th>\n",
       "      <th>sub_classification</th>\n",
       "      <th>vendor</th>\n",
       "      <th>item_description</th>\n",
       "      <th>molecule_test_type</th>\n",
       "      <th>brand</th>\n",
       "      <th>dosage</th>\n",
       "      <th>dosage_form</th>\n",
       "      <th>unit_of_measure_per_pack</th>\n",
       "      <th>line_item_quantity</th>\n",
       "      <th>line_item_value</th>\n",
       "      <th>pack_price</th>\n",
       "      <th>unit_price</th>\n",
       "      <th>manufacturing_site</th>\n",
       "      <th>first_line_designation</th>\n",
       "      <th>weight_kilograms</th>\n",
       "      <th>freight_cost_usd</th>\n",
       "      <th>freight_cost_groups</th>\n",
       "      <th>line_item_insurance_usd</th>\n",
       "    </tr>\n",
       "  </thead>\n",
       "  <tbody>\n",
       "    <tr>\n",
       "      <th>0</th>\n",
       "      <td>36203.0</td>\n",
       "      <td>Nigeria</td>\n",
       "      <td>PMO - US</td>\n",
       "      <td>Direct Drop</td>\n",
       "      <td>EXW</td>\n",
       "      <td>Air</td>\n",
       "      <td>1.0</td>\n",
       "      <td>Yes</td>\n",
       "      <td>HRDT</td>\n",
       "      <td>HIV test</td>\n",
       "      <td>Orgenics, Ltd</td>\n",
       "      <td>HIV 1/2, Determine Complete HIV Kit, 100 Tests</td>\n",
       "      <td>HIV 1/2, Determine Complete HIV Kit</td>\n",
       "      <td>Determine</td>\n",
       "      <td>N/A</td>\n",
       "      <td>Test kit</td>\n",
       "      <td>100.0</td>\n",
       "      <td>2996.0</td>\n",
       "      <td>266644.00</td>\n",
       "      <td>89.00</td>\n",
       "      <td>0.89</td>\n",
       "      <td>Alere Medical Co., Ltd.</td>\n",
       "      <td>Yes</td>\n",
       "      <td>1426.0</td>\n",
       "      <td>33279.83</td>\n",
       "      <td>expensive</td>\n",
       "      <td>373.83</td>\n",
       "    </tr>\n",
       "    <tr>\n",
       "      <th>1</th>\n",
       "      <td>30998.0</td>\n",
       "      <td>Botswana</td>\n",
       "      <td>PMO - US</td>\n",
       "      <td>Direct Drop</td>\n",
       "      <td>EXW</td>\n",
       "      <td>Air</td>\n",
       "      <td>0.0</td>\n",
       "      <td>No</td>\n",
       "      <td>HRDT</td>\n",
       "      <td>HIV test</td>\n",
       "      <td>Trinity Biotech, Plc</td>\n",
       "      <td>HIV 1/2, Uni-Gold HIV Kit, 20 Tests</td>\n",
       "      <td>HIV 1/2, Uni-Gold HIV Kit</td>\n",
       "      <td>Uni-Gold</td>\n",
       "      <td>N/A</td>\n",
       "      <td>Test kit</td>\n",
       "      <td>20.0</td>\n",
       "      <td>25.0</td>\n",
       "      <td>800.00</td>\n",
       "      <td>32.00</td>\n",
       "      <td>1.60</td>\n",
       "      <td>Trinity Biotech, Plc</td>\n",
       "      <td>Yes</td>\n",
       "      <td>10.0</td>\n",
       "      <td>559.89</td>\n",
       "      <td>reasonable</td>\n",
       "      <td>1.72</td>\n",
       "    </tr>\n",
       "    <tr>\n",
       "      <th>2</th>\n",
       "      <td>69871.0</td>\n",
       "      <td>Vietnam</td>\n",
       "      <td>PMO - US</td>\n",
       "      <td>Direct Drop</td>\n",
       "      <td>EXW</td>\n",
       "      <td>Air</td>\n",
       "      <td>0.0</td>\n",
       "      <td>No</td>\n",
       "      <td>ARV</td>\n",
       "      <td>Adult</td>\n",
       "      <td>HETERO LABS LIMITED</td>\n",
       "      <td>Lamivudine/Nevirapine/Stavudine 150/200/30mg, ...</td>\n",
       "      <td>Lamivudine/Nevirapine/Stavudine</td>\n",
       "      <td>Generic</td>\n",
       "      <td>150/200/30mg</td>\n",
       "      <td>Tablet - FDC</td>\n",
       "      <td>60.0</td>\n",
       "      <td>22925.0</td>\n",
       "      <td>110040.00</td>\n",
       "      <td>4.80</td>\n",
       "      <td>0.08</td>\n",
       "      <td>Hetero Unit III Hyderabad IN</td>\n",
       "      <td>Yes</td>\n",
       "      <td>3723.0</td>\n",
       "      <td>19056.13</td>\n",
       "      <td>expensive</td>\n",
       "      <td>181.57</td>\n",
       "    </tr>\n",
       "    <tr>\n",
       "      <th>3</th>\n",
       "      <td>17648.0</td>\n",
       "      <td>South Africa</td>\n",
       "      <td>PMO - US</td>\n",
       "      <td>Direct Drop</td>\n",
       "      <td>DDP</td>\n",
       "      <td>Ocean</td>\n",
       "      <td>0.0</td>\n",
       "      <td>No</td>\n",
       "      <td>ARV</td>\n",
       "      <td>Adult</td>\n",
       "      <td>Aurobindo Pharma Limited</td>\n",
       "      <td>Lamivudine 150mg, tablets, 60 Tabs</td>\n",
       "      <td>Lamivudine</td>\n",
       "      <td>Generic</td>\n",
       "      <td>150mg</td>\n",
       "      <td>Tablet</td>\n",
       "      <td>60.0</td>\n",
       "      <td>152535.0</td>\n",
       "      <td>361507.95</td>\n",
       "      <td>2.37</td>\n",
       "      <td>0.04</td>\n",
       "      <td>Aurobindo Unit III, India</td>\n",
       "      <td>Yes</td>\n",
       "      <td>7698.0</td>\n",
       "      <td>11372.23</td>\n",
       "      <td>expensive</td>\n",
       "      <td>779.41</td>\n",
       "    </tr>\n",
       "    <tr>\n",
       "      <th>4</th>\n",
       "      <td>5647.0</td>\n",
       "      <td>Uganda</td>\n",
       "      <td>PMO - US</td>\n",
       "      <td>Direct Drop</td>\n",
       "      <td>EXW</td>\n",
       "      <td>Air</td>\n",
       "      <td>0.0</td>\n",
       "      <td>No</td>\n",
       "      <td>HRDT</td>\n",
       "      <td>HIV test - Ancillary</td>\n",
       "      <td>Orgenics, Ltd</td>\n",
       "      <td>HIV, Lancet, Safety, for HIV Test kits, 100 Pcs</td>\n",
       "      <td>HIV, Lancet, Safety, for HIV Test kits, 100 Pcs</td>\n",
       "      <td>Generic</td>\n",
       "      <td>N/A</td>\n",
       "      <td>Test kit - Ancillary</td>\n",
       "      <td>100.0</td>\n",
       "      <td>850.0</td>\n",
       "      <td>8.50</td>\n",
       "      <td>0.01</td>\n",
       "      <td>0.00</td>\n",
       "      <td>Inverness Japan</td>\n",
       "      <td>Yes</td>\n",
       "      <td>56.0</td>\n",
       "      <td>360.00</td>\n",
       "      <td>reasonable</td>\n",
       "      <td>0.01</td>\n",
       "    </tr>\n",
       "  </tbody>\n",
       "</table>\n",
       "</div>"
      ],
      "text/plain": [
       "        id       country managed_by  fulfill_via vendor_inco_term  \\\n",
       "0  36203.0       Nigeria   PMO - US  Direct Drop              EXW   \n",
       "1  30998.0      Botswana   PMO - US  Direct Drop              EXW   \n",
       "2  69871.0       Vietnam   PMO - US  Direct Drop              EXW   \n",
       "3  17648.0  South Africa   PMO - US  Direct Drop              DDP   \n",
       "4   5647.0        Uganda   PMO - US  Direct Drop              EXW   \n",
       "\n",
       "  shipment_mode  late_delivery late product_group    sub_classification  \\\n",
       "0           Air            1.0  Yes          HRDT              HIV test   \n",
       "1           Air            0.0   No          HRDT              HIV test   \n",
       "2           Air            0.0   No           ARV                 Adult   \n",
       "3         Ocean            0.0   No           ARV                 Adult   \n",
       "4           Air            0.0   No          HRDT  HIV test - Ancillary   \n",
       "\n",
       "                     vendor  \\\n",
       "0             Orgenics, Ltd   \n",
       "1      Trinity Biotech, Plc   \n",
       "2       HETERO LABS LIMITED   \n",
       "3  Aurobindo Pharma Limited   \n",
       "4             Orgenics, Ltd   \n",
       "\n",
       "                                    item_description  \\\n",
       "0     HIV 1/2, Determine Complete HIV Kit, 100 Tests   \n",
       "1                HIV 1/2, Uni-Gold HIV Kit, 20 Tests   \n",
       "2  Lamivudine/Nevirapine/Stavudine 150/200/30mg, ...   \n",
       "3                 Lamivudine 150mg, tablets, 60 Tabs   \n",
       "4    HIV, Lancet, Safety, for HIV Test kits, 100 Pcs   \n",
       "\n",
       "                                molecule_test_type      brand        dosage  \\\n",
       "0              HIV 1/2, Determine Complete HIV Kit  Determine           N/A   \n",
       "1                        HIV 1/2, Uni-Gold HIV Kit   Uni-Gold           N/A   \n",
       "2                  Lamivudine/Nevirapine/Stavudine    Generic  150/200/30mg   \n",
       "3                                       Lamivudine    Generic         150mg   \n",
       "4  HIV, Lancet, Safety, for HIV Test kits, 100 Pcs    Generic           N/A   \n",
       "\n",
       "            dosage_form  unit_of_measure_per_pack  line_item_quantity  \\\n",
       "0              Test kit                     100.0              2996.0   \n",
       "1              Test kit                      20.0                25.0   \n",
       "2          Tablet - FDC                      60.0             22925.0   \n",
       "3                Tablet                      60.0            152535.0   \n",
       "4  Test kit - Ancillary                     100.0               850.0   \n",
       "\n",
       "   line_item_value  pack_price  unit_price            manufacturing_site  \\\n",
       "0        266644.00       89.00        0.89       Alere Medical Co., Ltd.   \n",
       "1           800.00       32.00        1.60          Trinity Biotech, Plc   \n",
       "2        110040.00        4.80        0.08  Hetero Unit III Hyderabad IN   \n",
       "3        361507.95        2.37        0.04     Aurobindo Unit III, India   \n",
       "4             8.50        0.01        0.00               Inverness Japan   \n",
       "\n",
       "  first_line_designation  weight_kilograms  freight_cost_usd  \\\n",
       "0                    Yes            1426.0          33279.83   \n",
       "1                    Yes              10.0            559.89   \n",
       "2                    Yes            3723.0          19056.13   \n",
       "3                    Yes            7698.0          11372.23   \n",
       "4                    Yes              56.0            360.00   \n",
       "\n",
       "  freight_cost_groups  line_item_insurance_usd  \n",
       "0           expensive                   373.83  \n",
       "1          reasonable                     1.72  \n",
       "2           expensive                   181.57  \n",
       "3           expensive                   779.41  \n",
       "4          reasonable                     0.01  "
      ]
     },
     "execution_count": 3,
     "metadata": {},
     "output_type": "execute_result"
    }
   ],
   "source": [
    "late_shipments.head()"
   ]
  },
  {
   "cell_type": "code",
   "execution_count": 4,
   "id": "affb277c",
   "metadata": {},
   "outputs": [
    {
     "name": "stdout",
     "output_type": "stream",
     "text": [
      "0.061\n"
     ]
    }
   ],
   "source": [
    "# Calculate the proportion of late shipments\n",
    "late_prop_samp = (late_shipments['late']=='Yes').mean()\n",
    "print(late_prop_samp)"
   ]
  },
  {
   "cell_type": "code",
   "execution_count": 5,
   "id": "85c1e60f",
   "metadata": {},
   "outputs": [],
   "source": [
    "late_shipments_boot_distn = []\n",
    "for i in range(5000):\n",
    "    late_shipments_boot_distn.append(\n",
    "        np.mean(\n",
    "            # To sample with replacement, we call replace argument to True. \n",
    "            # Setting frac to 1 produces a sample of the same size as the original dataset.\n",
    "            late_shipments.sample(frac=1, replace=True)['late_delivery']\n",
    "                )\n",
    "    )"
   ]
  },
  {
   "cell_type": "code",
   "execution_count": 6,
   "id": "2cff715f",
   "metadata": {},
   "outputs": [
    {
     "data": {
      "text/plain": [
       "(array([   9.,   58.,  328., 1000., 1246., 1356.,  756.,  208.,   36.,\n",
       "           3.]),\n",
       " array([0.033 , 0.0388, 0.0446, 0.0504, 0.0562, 0.062 , 0.0678, 0.0736,\n",
       "        0.0794, 0.0852, 0.091 ]),\n",
       " <BarContainer object of 10 artists>)"
      ]
     },
     "execution_count": 6,
     "metadata": {},
     "output_type": "execute_result"
    },
    {
     "data": {
      "image/png": "[encoded data removed]",
      "text/plain": [
       "<Figure size 640x480 with 1 Axes>"
      ]
     },
     "metadata": {},
     "output_type": "display_data"
    }
   ],
   "source": [
    "plt.hist(late_shipments_boot_distn)"
   ]
  },
  {
   "cell_type": "code",
   "execution_count": 7,
   "id": "3a074e87",
   "metadata": {},
   "outputs": [
    {
     "name": "stdout",
     "output_type": "stream",
     "text": [
      "0.1305824489732285\n"
     ]
    }
   ],
   "source": [
    "# Hypothesize that the proportion is 6%\n",
    "late_prop_hyp = 0.06\n",
    "\n",
    "# Calculate the sample standard error (degree of freedom=1)\n",
    "std_error = np.std(late_shipments_boot_distn)\n",
    "\n",
    "# Find z-score of late_prop_samp\n",
    "z_score = (late_prop_samp-late_prop_hyp)/std_error\n",
    "\n",
    "print(z_score)"
   ]
  },
  {
   "cell_type": "markdown",
   "id": "3b659e68",
   "metadata": {},
   "source": [
    "### Hypothesis\n",
    "- ${H_0}$ : the proportion of late shipments is 6%.\n",
    "- ${H_1}$ : the proportion of late shipments is **greater** than 6%.\n",
    "- Set $\\alpha = 0.05$ --> 95% confidence interval."
   ]
  },
  {
   "cell_type": "code",
   "execution_count": 8,
   "id": "539d3f9e-afac-4478-bb30-6f5a38146f74",
   "metadata": {},
   "outputs": [
    {
     "name": "stdout",
     "output_type": "stream",
     "text": [
      "(0.046, 0.076)\n"
     ]
    }
   ],
   "source": [
    "# Calculate 95% confidence interval using quantile method\n",
    "lower = np.quantile(late_shipments_boot_distn, 0.025)\n",
    "upper = np.quantile(late_shipments_boot_distn, 0.975)\n",
    "\n",
    "print((lower, upper))"
   ]
  },
  {
   "cell_type": "code",
   "execution_count": 9,
   "id": "4295ba1f",
   "metadata": {},
   "outputs": [
    {
     "name": "stdout",
     "output_type": "stream",
     "text": [
      "0.4480528137591253\n"
     ]
    }
   ],
   "source": [
    "from scipy.stats import norm\n",
    "\n",
    "# Calculate the p-value\n",
    "p_value = 1- norm.cdf(z_score,loc=0,scale=1)\n",
    "print(p_value) "
   ]
  },
  {
   "cell_type": "markdown",
   "id": "b7aba3ed-1d7a-4928-bcfb-5156680eb48c",
   "metadata": {},
   "source": [
    "0.06 is included in the 95% confidence interval and we failed to reject ${H_0}$ due to a large p-value, the results are similar."
   ]
  },
  {
   "cell_type": "markdown",
   "id": "592ab603",
   "metadata": {},
   "source": [
    "- Comment: p-value smaller than confidence interval (0.05), reject the null hypothesis that late shipment proportion is 6%."
   ]
  },
  {
   "cell_type": "markdown",
   "id": "616451f2",
   "metadata": {},
   "source": [
    "### Type of Errors\n",
    "<img src=\"https://miro.medium.com/v2/resize:fit:1400/1*uF5aBZ63BZ8IDEyF8wo-CA.png\" style=\"height:300px\" />"
   ]
  },
  {
   "cell_type": "code",
   "execution_count": 10,
   "id": "f5be7fbe",
   "metadata": {},
   "outputs": [
    {
     "name": "stdout",
     "output_type": "stream",
     "text": [
      "(0.046, 0.076)\n"
     ]
    }
   ],
   "source": [
    "# Calculate 95% confidence interval using quantile method\n",
    "lower = np.quantile(late_shipments_boot_distn, 0.025)\n",
    "upper = np.quantile(late_shipments_boot_distn, 0.975)\n",
    "\n",
    "# Print the confidence interval\n",
    "print((lower, upper))"
   ]
  },
  {
   "cell_type": "markdown",
   "id": "acb775ce",
   "metadata": {},
   "source": [
    "## 2. T-test, Two-sample test\n",
    "### ${t} = \\frac{\\bar{X_1} - \\bar{X_2}}{\\sqrt{\\frac{S_1^2}{n_1} + \\frac{S_2^2}{n_2}}}$\n",
    "\n",
    "### Problem :\n",
    "While trying to determine why some shipments are late, we may wonder if the weight of the shipments that were on time is less than the weight of the shipments that were late.<br>\n",
    "The late_shipments dataset has been split into a `\"yes\"` group, where `late == \"Yes\"` and a `\"no\"` group where `late == \"No\"`. The weight of the shipment is given in the `weight_kilograms` variable.\n",
    "\n",
    "- ${H_0}$: The mean weight of shipments that weren't late ( $\\bar{X_1}$ = `no`) is the same as the mean weight of shipments that were late ( $\\bar{X_2}$ = `yes`).\n",
    "\n",
    "- ${H_1}$: The mean weight of shipments that weren't late ( $\\bar{X_1}$ = `no`) is less than the mean weight of shipments that were late ( $\\bar{X_2}$ = `yes`).\n",
    "- **$\\alpha$** = `0.05`"
   ]
  },
  {
   "cell_type": "code",
   "execution_count": 11,
   "id": "d4739e55",
   "metadata": {},
   "outputs": [
    {
     "name": "stdout",
     "output_type": "stream",
     "text": [
      "-2.3936661778766433\n"
     ]
    }
   ],
   "source": [
    "# Calculate the sample means\n",
    "xbar_yes = late_shipments.groupby('late')['weight_kilograms'].mean()[\"Yes\"]\n",
    "xbar_no = late_shipments.groupby('late')['weight_kilograms'].mean()[\"No\"]\n",
    "\n",
    "# Numbers of samples\n",
    "n_yes = len(late_shipments[late_shipments.late =='Yes'])\n",
    "n_no = len(late_shipments[late_shipments.late =='No'])\n",
    "\n",
    "# Calculate the sample standard error\n",
    "s_yes = late_shipments.groupby('late')['weight_kilograms'].std()[\"Yes\"]\n",
    "s_no = late_shipments.groupby('late')['weight_kilograms'].std()[\"No\"]\n",
    "\n",
    "# Calculate the numerator of the test statistic\n",
    "numerator = xbar_no - xbar_yes\n",
    "\n",
    "# Calculate the denominator of the test statistic\n",
    "denominator = np.sqrt((s_no**2/n_no) + (s_yes**2/n_yes))\n",
    "\n",
    "# Calculate the test statistic\n",
    "t_stat = numerator / denominator\n",
    "\n",
    "print(t_stat)"
   ]
  },
  {
   "cell_type": "markdown",
   "id": "1b28eac3",
   "metadata": {},
   "source": [
    "### T-distribution\n",
    "- Looks like `Normal (z) distributioin`. with **fatter** tails. <br>\n",
    "- **Larger** degree of freedom (df), getting closer to normal distribution. <br>\n",
    "- Nomal distribution = t-distribution with **infinite df**.<br>\n",
    "<img src=\"https://www.scribbr.com/wp-content/uploads/2020/08/t_distribution_comparisons.png\" style=\"height:500px\" />"
   ]
  },
  {
   "cell_type": "code",
   "execution_count": 12,
   "id": "528e36b1",
   "metadata": {},
   "outputs": [
    {
     "name": "stdout",
     "output_type": "stream",
     "text": [
      "0.008432382146249525\n"
     ]
    }
   ],
   "source": [
    "from scipy.stats import t\n",
    "\n",
    "# Calculate the degrees of freedom\n",
    "degrees_of_freedom = n_no +n_yes -2\n",
    "\n",
    "# Calculate the p-value from the test stat\n",
    "p_value = t.cdf(t_stat, df=degrees_of_freedom)\n",
    "print(p_value)"
   ]
  },
  {
   "cell_type": "markdown",
   "id": "1a828ddc",
   "metadata": {},
   "source": [
    "- Comment : Reject the `Null hypothesis`."
   ]
  },
  {
   "cell_type": "markdown",
   "id": "76e81db4",
   "metadata": {},
   "source": [
    "## 3.  Paired T-test\n",
    "### US Democratic presidents dataset\n",
    "#### **Question** : Was the percentage of democradic candidate votes in 2012 lower than 2016?\n",
    "- ${H_0}$ : $\\mu_{2012} - \\mu_{2016} = 0$\n",
    "- ${H_1}$ : $\\mu_{2012} \\neq \\mu_{2016} $\n",
    "- $\\alpha = 0.05$ <br>\n",
    "#### Data is paired, each voter percentage refers to the same county."
   ]
  },
  {
   "cell_type": "code",
   "execution_count": 13,
   "id": "0b076a05",
   "metadata": {},
   "outputs": [
    {
     "data": {
      "text/html": [
       "<div>\n",
       "<style scoped>\n",
       "    .dataframe tbody tr th:only-of-type {\n",
       "        vertical-align: middle;\n",
       "    }\n",
       "\n",
       "    .dataframe tbody tr th {\n",
       "        vertical-align: top;\n",
       "    }\n",
       "\n",
       "    .dataframe thead th {\n",
       "        text-align: right;\n",
       "    }\n",
       "</style>\n",
       "<table border=\"1\" class=\"dataframe\">\n",
       "  <thead>\n",
       "    <tr style=\"text-align: right;\">\n",
       "      <th></th>\n",
       "      <th>state</th>\n",
       "      <th>county</th>\n",
       "      <th>dem_percent_12</th>\n",
       "      <th>dem_percent_16</th>\n",
       "    </tr>\n",
       "  </thead>\n",
       "  <tbody>\n",
       "    <tr>\n",
       "      <th>0</th>\n",
       "      <td>Alabama</td>\n",
       "      <td>Bullock</td>\n",
       "      <td>76.305900</td>\n",
       "      <td>74.946921</td>\n",
       "    </tr>\n",
       "    <tr>\n",
       "      <th>1</th>\n",
       "      <td>Alabama</td>\n",
       "      <td>Chilton</td>\n",
       "      <td>19.453671</td>\n",
       "      <td>15.847352</td>\n",
       "    </tr>\n",
       "    <tr>\n",
       "      <th>2</th>\n",
       "      <td>Alabama</td>\n",
       "      <td>Clay</td>\n",
       "      <td>26.673672</td>\n",
       "      <td>18.674517</td>\n",
       "    </tr>\n",
       "    <tr>\n",
       "      <th>3</th>\n",
       "      <td>Alabama</td>\n",
       "      <td>Cullman</td>\n",
       "      <td>14.661752</td>\n",
       "      <td>10.028252</td>\n",
       "    </tr>\n",
       "    <tr>\n",
       "      <th>4</th>\n",
       "      <td>Alabama</td>\n",
       "      <td>Escambia</td>\n",
       "      <td>36.915731</td>\n",
       "      <td>31.020546</td>\n",
       "    </tr>\n",
       "  </tbody>\n",
       "</table>\n",
       "</div>"
      ],
      "text/plain": [
       "     state    county  dem_percent_12  dem_percent_16\n",
       "0  Alabama   Bullock       76.305900       74.946921\n",
       "1  Alabama   Chilton       19.453671       15.847352\n",
       "2  Alabama      Clay       26.673672       18.674517\n",
       "3  Alabama   Cullman       14.661752       10.028252\n",
       "4  Alabama  Escambia       36.915731       31.020546"
      ]
     },
     "execution_count": 13,
     "metadata": {},
     "output_type": "execute_result"
    }
   ],
   "source": [
    "sample_dem_data = pd.read_feather('/Users/florahuang/Desktop/practice datasets/us_dem_votes_potus_12_16.feather')\n",
    "sample_dem_data.head()"
   ]
  },
  {
   "cell_type": "markdown",
   "id": "af5e1c43",
   "metadata": {},
   "source": [
    "### Revised hypothesis \n",
    "- ${H_0}$ : $\\mu_{diff} = 0$\n",
    "- ${H_1}$ : $\\mu_{diff} < 0$\n",
    "<br><br>\n",
    "- ${t} = \\frac{\\bar{X_{diff}} - {\\mu_{diff}}}{\\sqrt{\\frac{S_{diff}^2}{n_{diff}}}}$\n",
    "<br><br>\n",
    "- ${df} = {n_{diff}} - 1$"
   ]
  },
  {
   "cell_type": "code",
   "execution_count": 14,
   "id": "0e26da19",
   "metadata": {},
   "outputs": [
    {
     "data": {
      "text/html": [
       "<div>\n",
       "<style scoped>\n",
       "    .dataframe tbody tr th:only-of-type {\n",
       "        vertical-align: middle;\n",
       "    }\n",
       "\n",
       "    .dataframe tbody tr th {\n",
       "        vertical-align: top;\n",
       "    }\n",
       "\n",
       "    .dataframe thead th {\n",
       "        text-align: right;\n",
       "    }\n",
       "</style>\n",
       "<table border=\"1\" class=\"dataframe\">\n",
       "  <thead>\n",
       "    <tr style=\"text-align: right;\">\n",
       "      <th></th>\n",
       "      <th>state</th>\n",
       "      <th>county</th>\n",
       "      <th>dem_percent_12</th>\n",
       "      <th>dem_percent_16</th>\n",
       "      <th>diff</th>\n",
       "    </tr>\n",
       "  </thead>\n",
       "  <tbody>\n",
       "    <tr>\n",
       "      <th>0</th>\n",
       "      <td>Alabama</td>\n",
       "      <td>Bullock</td>\n",
       "      <td>76.305900</td>\n",
       "      <td>74.946921</td>\n",
       "      <td>1.358979</td>\n",
       "    </tr>\n",
       "    <tr>\n",
       "      <th>1</th>\n",
       "      <td>Alabama</td>\n",
       "      <td>Chilton</td>\n",
       "      <td>19.453671</td>\n",
       "      <td>15.847352</td>\n",
       "      <td>3.606319</td>\n",
       "    </tr>\n",
       "    <tr>\n",
       "      <th>2</th>\n",
       "      <td>Alabama</td>\n",
       "      <td>Clay</td>\n",
       "      <td>26.673672</td>\n",
       "      <td>18.674517</td>\n",
       "      <td>7.999155</td>\n",
       "    </tr>\n",
       "    <tr>\n",
       "      <th>3</th>\n",
       "      <td>Alabama</td>\n",
       "      <td>Cullman</td>\n",
       "      <td>14.661752</td>\n",
       "      <td>10.028252</td>\n",
       "      <td>4.633500</td>\n",
       "    </tr>\n",
       "    <tr>\n",
       "      <th>4</th>\n",
       "      <td>Alabama</td>\n",
       "      <td>Escambia</td>\n",
       "      <td>36.915731</td>\n",
       "      <td>31.020546</td>\n",
       "      <td>5.895185</td>\n",
       "    </tr>\n",
       "  </tbody>\n",
       "</table>\n",
       "</div>"
      ],
      "text/plain": [
       "     state    county  dem_percent_12  dem_percent_16      diff\n",
       "0  Alabama   Bullock       76.305900       74.946921  1.358979\n",
       "1  Alabama   Chilton       19.453671       15.847352  3.606319\n",
       "2  Alabama      Clay       26.673672       18.674517  7.999155\n",
       "3  Alabama   Cullman       14.661752       10.028252  4.633500\n",
       "4  Alabama  Escambia       36.915731       31.020546  5.895185"
      ]
     },
     "execution_count": 14,
     "metadata": {},
     "output_type": "execute_result"
    }
   ],
   "source": [
    "# Calculate the differences from 2012 to 2016\n",
    "sample_dem_data['diff'] = sample_dem_data['dem_percent_12'] - sample_dem_data['dem_percent_16']\n",
    "sample_dem_data.head()"
   ]
  },
  {
   "cell_type": "code",
   "execution_count": 15,
   "id": "63ddf273",
   "metadata": {},
   "outputs": [
    {
     "data": {
      "image/png": "[encoded data removed]",
      "text/plain": [
       "<Figure size 640x480 with 1 Axes>"
      ]
     },
     "metadata": {},
     "output_type": "display_data"
    }
   ],
   "source": [
    "# Plot a histogram of diff with 20 bins\n",
    "sample_dem_data['diff'].hist(bins=20)\n",
    "plt.show()"
   ]
  },
  {
   "cell_type": "code",
   "execution_count": 16,
   "id": "e85f3460",
   "metadata": {},
   "outputs": [
    {
     "name": "stdout",
     "output_type": "stream",
     "text": [
      "6.829312660106834\n",
      "5.040139140132317\n"
     ]
    }
   ],
   "source": [
    "# Find the mean and standard deviation of the diff column\n",
    "xbar_diff = sample_dem_data['diff'].mean()\n",
    "s_diff = sample_dem_data['diff'].std()\n",
    "n_diff = len(sample_dem_data)\n",
    "print(xbar_diff)\n",
    "print(s_diff)"
   ]
  },
  {
   "cell_type": "code",
   "execution_count": 17,
   "id": "f1015dcd",
   "metadata": {},
   "outputs": [
    {
     "name": "stdout",
     "output_type": "stream",
     "text": [
      "0.0\n"
     ]
    }
   ],
   "source": [
    "# If null hypothesis is true, the diff of populaation is 0.\n",
    "t_stat = (xbar_diff - 0) / np.sqrt(s_diff**2/n_diff)\n",
    "degree_of_freedom = n_diff - 1\n",
    "\n",
    "# Two tailed t-test\n",
    "p_value  = 2*(1-t.cdf(t_stat, df = degree_of_freedom))\n",
    "print(p_value)"
   ]
  },
  {
   "cell_type": "markdown",
   "id": "ab37fa15",
   "metadata": {},
   "source": [
    "### We can also use `pingouin` library"
   ]
  },
  {
   "cell_type": "code",
   "execution_count": 18,
   "id": "de4f327b",
   "metadata": {},
   "outputs": [
    {
     "name": "stderr",
     "output_type": "stream",
     "text": [
      "/Library/Frameworks/Python.framework/Versions/3.11/lib/python3.11/site-packages/pingouin/parametric.py:228: UserWarning: x and y have unequal sizes. Switching to paired == False. Check your data.\n",
      "  warnings.warn(\"x and y have unequal sizes. Switching to paired == False. Check your data.\")\n"
     ]
    },
    {
     "data": {
      "text/html": [
       "<div>\n",
       "<style scoped>\n",
       "    .dataframe tbody tr th:only-of-type {\n",
       "        vertical-align: middle;\n",
       "    }\n",
       "\n",
       "    .dataframe tbody tr th {\n",
       "        vertical-align: top;\n",
       "    }\n",
       "\n",
       "    .dataframe thead th {\n",
       "        text-align: right;\n",
       "    }\n",
       "</style>\n",
       "<table border=\"1\" class=\"dataframe\">\n",
       "  <thead>\n",
       "    <tr style=\"text-align: right;\">\n",
       "      <th></th>\n",
       "      <th>T</th>\n",
       "      <th>dof</th>\n",
       "      <th>alternative</th>\n",
       "      <th>p-val</th>\n",
       "      <th>CI95%</th>\n",
       "      <th>cohen-d</th>\n",
       "      <th>BF10</th>\n",
       "      <th>power</th>\n",
       "    </tr>\n",
       "  </thead>\n",
       "  <tbody>\n",
       "    <tr>\n",
       "      <th>T-test</th>\n",
       "      <td>30.298384</td>\n",
       "      <td>499</td>\n",
       "      <td>two-sided</td>\n",
       "      <td>3.600634e-115</td>\n",
       "      <td>[6.39, 7.27]</td>\n",
       "      <td>1.354985</td>\n",
       "      <td>2.246e+111</td>\n",
       "      <td>1.0</td>\n",
       "    </tr>\n",
       "  </tbody>\n",
       "</table>\n",
       "</div>"
      ],
      "text/plain": [
       "                T  dof alternative          p-val         CI95%   cohen-d  \\\n",
       "T-test  30.298384  499   two-sided  3.600634e-115  [6.39, 7.27]  1.354985   \n",
       "\n",
       "              BF10  power  \n",
       "T-test  2.246e+111    1.0  "
      ]
     },
     "execution_count": 18,
     "metadata": {},
     "output_type": "execute_result"
    }
   ],
   "source": [
    "import pingouin\n",
    "# Conduct a t-test on diff\n",
    "test_results = pingouin.ttest(x=sample_dem_data['diff'],y=0, paired=True, alternative='two-sided')\n",
    "test_results"
   ]
  },
  {
   "cell_type": "code",
   "execution_count": 19,
   "id": "32bbea1e",
   "metadata": {},
   "outputs": [
    {
     "data": {
      "text/html": [
       "<div>\n",
       "<style scoped>\n",
       "    .dataframe tbody tr th:only-of-type {\n",
       "        vertical-align: middle;\n",
       "    }\n",
       "\n",
       "    .dataframe tbody tr th {\n",
       "        vertical-align: top;\n",
       "    }\n",
       "\n",
       "    .dataframe thead th {\n",
       "        text-align: right;\n",
       "    }\n",
       "</style>\n",
       "<table border=\"1\" class=\"dataframe\">\n",
       "  <thead>\n",
       "    <tr style=\"text-align: right;\">\n",
       "      <th></th>\n",
       "      <th>T</th>\n",
       "      <th>dof</th>\n",
       "      <th>alternative</th>\n",
       "      <th>p-val</th>\n",
       "      <th>CI95%</th>\n",
       "      <th>cohen-d</th>\n",
       "      <th>BF10</th>\n",
       "      <th>power</th>\n",
       "    </tr>\n",
       "  </thead>\n",
       "  <tbody>\n",
       "    <tr>\n",
       "      <th>T-test</th>\n",
       "      <td>30.298384</td>\n",
       "      <td>499</td>\n",
       "      <td>two-sided</td>\n",
       "      <td>3.600634e-115</td>\n",
       "      <td>[6.39, 7.27]</td>\n",
       "      <td>0.454202</td>\n",
       "      <td>2.246e+111</td>\n",
       "      <td>1.0</td>\n",
       "    </tr>\n",
       "  </tbody>\n",
       "</table>\n",
       "</div>"
      ],
      "text/plain": [
       "                T  dof alternative          p-val         CI95%   cohen-d  \\\n",
       "T-test  30.298384  499   two-sided  3.600634e-115  [6.39, 7.27]  0.454202   \n",
       "\n",
       "              BF10  power  \n",
       "T-test  2.246e+111    1.0  "
      ]
     },
     "execution_count": 19,
     "metadata": {},
     "output_type": "execute_result"
    }
   ],
   "source": [
    "# Conduct a t-test on both individuals\n",
    "test_results = pingouin.ttest(x=sample_dem_data['dem_percent_12'],y=sample_dem_data['dem_percent_16'],\n",
    "                              paired=True, alternative='two-sided')\n",
    "test_results"
   ]
  },
  {
   "cell_type": "markdown",
   "id": "ac599442",
   "metadata": {},
   "source": [
    "- Comment : Reject the null hypothesis."
   ]
  },
  {
   "cell_type": "code",
   "execution_count": 20,
   "id": "7a8d4e17",
   "metadata": {},
   "outputs": [
    {
     "data": {
      "image/png": "[encoded data removed]",
      "text/plain": [
       "<Figure size 1000x600 with 1 Axes>"
      ]
     },
     "metadata": {},
     "output_type": "display_data"
    }
   ],
   "source": [
    "alpha = 0.05\n",
    "# Calculate t-statistic\n",
    "t_stat = (xbar_diff - 0) / np.sqrt(s_diff**2/n_diff)\n",
    "\n",
    "# Calculate p-value for two-tailed test\n",
    "p_value = 2 * (1 - t.cdf(np.abs(t_stat), df=degree_of_freedom))\n",
    "\n",
    "# Create a range of x values for the t-distribution\n",
    "x_values = np.linspace(-3, 3, 500)  # Adjust the range as needed\n",
    "\n",
    "# Calculate the t-distribution values\n",
    "t_values = t.pdf(x_values, df=degree_of_freedom, loc=0, scale=1)\n",
    "\n",
    "# Calculate critical t-values for two-tailed test\n",
    "t_critical_left = t.ppf(alpha / 2, df=degree_of_freedom)\n",
    "t_critical_right = t.ppf(1 - alpha / 2, df=degree_of_freedom)\n",
    "\n",
    "# Create the plot\n",
    "plt.figure(figsize=(10, 6))\n",
    "plt.plot(x_values, t_values, label=f't-distribution (df={degree_of_freedom})')\n",
    "#plt.axvline(x=xbar_diff, color='r', linestyle='--', label='Sample Mean')\n",
    "plt.axvline(x=t_critical_left, color='g', linestyle='--', label='Critical Region')\n",
    "plt.axvline(x=t_critical_right, color='g', linestyle='--')\n",
    "\n",
    "plt.fill_between(x_values, t_values, \n",
    "                 where=(x_values <= t_critical_left) | (x_values >= t_critical_right), \n",
    "                 alpha=0.1, color='gray')\n",
    "\n",
    "plt.text(xbar_diff, 0.15, f'p-value = {p_value:.4f}', color='b', fontsize=12, ha='center')\n",
    "plt.xlabel('Difference in Percent')\n",
    "plt.ylabel('Probability Density')\n",
    "plt.title('T-Distribution and Critical Regions (Two-Tailed Test)')\n",
    "plt.legend()\n",
    "plt.show()"
   ]
  },
  {
   "cell_type": "code",
   "execution_count": 21,
   "id": "9efdb0b1",
   "metadata": {
    "scrolled": true
   },
   "outputs": [
    {
     "data": {
      "image/png": "[encoded data removed]",
      "text/plain": [
       "<Figure size 1000x500 with 1 Axes>"
      ]
     },
     "metadata": {},
     "output_type": "display_data"
    }
   ],
   "source": [
    "n = 500\n",
    "df = n - 1\n",
    "rand_t_samples = t.rvs(df, loc=0, scale=1, size=n)\n",
    "plt.figure(figsize=(10, 5))\n",
    "plt.hist(\n",
    "    rand_t_samples, density=True, color=\"lightgrey\", edgecolor=\"darkgrey\", bins=20\n",
    ")\n",
    "plt.xlabel(\"samples\")\n",
    "plt.ylabel(\"Density\")\n",
    "plt.show()"
   ]
  },
  {
   "cell_type": "markdown",
   "id": "074e28a6",
   "metadata": {},
   "source": [
    "https://www.geo.fu-berlin.de/en/v/soga-py/Basics-of-statistics/Continous-Random-Variables/Students-t-Distribution/Students-t-Distribution-in-Python/index.html"
   ]
  },
  {
   "cell_type": "code",
   "execution_count": 22,
   "id": "50a5bb3e",
   "metadata": {},
   "outputs": [
    {
     "data": {
      "image/png": "[encoded data removed]",
      "text/plain": [
       "<Figure size 640x480 with 1 Axes>"
      ]
     },
     "metadata": {},
     "output_type": "display_data"
    }
   ],
   "source": [
    "import matplotlib.pyplot as plt\n",
    "import numpy as np\n",
    "from scipy.stats import t\n",
    " \n",
    "x = np.linspace(-5, 5, 100)\n",
    "degrees_of_freedom = [1, 2, 5, 10]  # Varying degrees of freedom\n",
    " \n",
    "# Plotting T-distribution curves for different degrees of freedom\n",
    "for df in degrees_of_freedom:\n",
    "    y = t.pdf(x, df)  # Using default location and scale parameters (0 and 1)\n",
    "    plt.plot(x, y, label=f\"Degrees of Freedom = {df}\")\n",
    " \n",
    "plt.xlabel('x')\n",
    "plt.ylabel('PDF')\n",
    "plt.title('T-Distribution with Varying Degrees of Freedom')\n",
    "plt.legend()\n",
    "plt.show()"
   ]
  },
  {
   "cell_type": "markdown",
   "id": "5530e571",
   "metadata": {},
   "source": [
    "### ANOVA (Analysis of Variance)\n",
    "- ANOVA test used to compare the means of more than 2 groups ( t-test or Z-test can be used to compare 2 groups )\n",
    "- ANOVA tests if there is a difference in the mean somewhere in the model, but it does not tell us where the difference is. To find where the difference is between the groups, we have to conduct `Post-hoc` tests.<br>\n",
    "`Post-hoc tests` tell the researcher which groups are different from each other.<br>\n",
    "There are several multiple comparison tests that can be conducted that will control for **Type I error**, including `Bonferroni`, `Scheffe`, `Dunnet`, and `Tukey` tests.\n",
    "\n",
    "\n",
    "${H_0}$ : There is no significant difference among the groups.<br>\n",
    "${H_1}$ : There is a significant difference among the groups.<br>\n",
    "\n",
    "- ANOVA is performed by comparing two types of variation, **the variation between the sample means**, as well as **the variation within each of the samples**.\n",
    "\n",
    "- The result of the ANOVA, the **F statistic**, allows for the analysis of multiple groups of data to determine the variability between samples and within samples.\n",
    "<img src=\"https://cdn.analyticsvidhya.com/wp-content/uploads/2020/06/ANOVA_3.png\" style=\"height:200px\" />\n",
    "\n",
    "### Types of ANOVA Tests\n",
    "**1. One-Way ANOVA**: has just one independent variable<br>\n",
    "For example, differences in Corona cases can be assessed by Country, and a Country can have 2, 20, or more to compare<br><br>\n",
    "**2. Two-Way ANOVA**: refers to an ANOVA using two independent variables<br>\n",
    "Expanding the example above, a two-way ANOVA can examine differences in Corona cases (the dependent variable) by Age group (independent variable 1) and Gender (independent variable 2). <br><br>\n",
    "**3. N-Way ANOVA**: with n numbers of independent variables you have, aka MANOVA Test.\n",
    "For example, potential differences in Corona cases can be examined by Country, Gender, Age group, Ethnicity, etc, simultaneously\n",
    "\n",
    "https://www.analyticsvidhya.com/blog/2020/06/introduction-anova-statistics-data-science-covid-python/<br>\n",
    "https://www.reneshbedre.com/blog/anova.html"
   ]
  },
  {
   "cell_type": "markdown",
   "id": "ac5d2461",
   "metadata": {},
   "source": [
    "### late shipment data\n",
    "**Question** : How the price of each package (`pack_price`) varies between the three shipment modes (`shipment_mode`): \"Air\", \"Air Charter\", and \"Ocean\".\n",
    "\n",
    "- ${H_0}$: Pack prices for every category of shipment mode are the same.\n",
    "- ${H_1}$: Pack prices for some categories of shipment mode are different.\n",
    "- significance level of 0.1."
   ]
  },
  {
   "cell_type": "code",
   "execution_count": 23,
   "id": "40062ede",
   "metadata": {},
   "outputs": [
    {
     "data": {
      "text/plain": [
       "shipment_mode\n",
       "Air            906\n",
       "Ocean           88\n",
       "Air Charter      6\n",
       "Name: count, dtype: int64"
      ]
     },
     "execution_count": 23,
     "metadata": {},
     "output_type": "execute_result"
    }
   ],
   "source": [
    "late_shipments[\"shipment_mode\"].value_counts()"
   ]
  },
  {
   "cell_type": "code",
   "execution_count": 24,
   "id": "cc791690",
   "metadata": {},
   "outputs": [
    {
     "name": "stdout",
     "output_type": "stream",
     "text": [
      "shipment_mode\n",
      "Air            39.712395\n",
      "Air Charter     4.226667\n",
      "Ocean           6.432273\n",
      "Name: pack_price, dtype: float64\n"
     ]
    }
   ],
   "source": [
    "# Calculate the mean pack_price for each shipment_mode\n",
    "xbar_pack_by_mode = late_shipments.groupby('shipment_mode')['pack_price'].mean()\n",
    "print(xbar_pack_by_mode)"
   ]
  },
  {
   "cell_type": "code",
   "execution_count": 25,
   "id": "064ded11",
   "metadata": {},
   "outputs": [
    {
     "name": "stdout",
     "output_type": "stream",
     "text": [
      "shipment_mode\n",
      "Air            48.932861\n",
      "Air Charter     0.992969\n",
      "Ocean           5.303047\n",
      "Name: pack_price, dtype: float64\n"
     ]
    }
   ],
   "source": [
    "# Calculate the standard deviation of the pack_price for each shipment_mode\n",
    "s_pack_by_mode = late_shipments.groupby(\"shipment_mode\")['pack_price'].std()\n",
    "print(s_pack_by_mode)"
   ]
  },
  {
   "cell_type": "code",
   "execution_count": 26,
   "id": "6de2c6f5",
   "metadata": {},
   "outputs": [
    {
     "name": "stderr",
     "output_type": "stream",
     "text": [
      "/Library/Frameworks/Python.framework/Versions/3.11/lib/python3.11/site-packages/outdated/utils.py:14: OutdatedPackageWarning: The package pingouin is out of date. Your version is 0.5.3, the latest is 0.5.4.\n",
      "Set the environment variable OUTDATED_IGNORE=1 to disable these warnings.\n",
      "  return warn(\n"
     ]
    },
    {
     "data": {
      "image/png": "[encoded data removed]",
      "text/plain": [
       "<Figure size 640x480 with 1 Axes>"
      ]
     },
     "metadata": {},
     "output_type": "display_data"
    }
   ],
   "source": [
    "import seaborn as sns\n",
    "\n",
    "# Boxplot of shipment_mode vs. pack_price\n",
    "sns.boxplot(data=late_shipments, x=\"pack_price\",y='shipment_mode')\n",
    "plt.show()"
   ]
  },
  {
   "cell_type": "code",
   "execution_count": 27,
   "id": "6947570d",
   "metadata": {},
   "outputs": [
    {
     "name": "stdout",
     "output_type": "stream",
     "text": [
      "          Source  ddof1  ddof2        F         p-unc       np2\n",
      "0  shipment_mode      2    997  21.8646  5.089479e-10  0.042018\n"
     ]
    }
   ],
   "source": [
    "# Run an ANOVA for pack_price across shipment_mode\n",
    "anova_results = pingouin.anova(data=late_shipments, dv='pack_price',between='shipment_mode')\n",
    "\n",
    "# Print anova_results\n",
    "print(anova_results)"
   ]
  },
  {
   "cell_type": "markdown",
   "id": "d2fe6275",
   "metadata": {},
   "source": [
    "- Comment : ${p} < 0.1$, Reject the null hypothesis."
   ]
  },
  {
   "cell_type": "markdown",
   "id": "f4e310b4",
   "metadata": {},
   "source": [
    "### Pairwise t-tests\n",
    "The ANOVA test didn't tell  which categories of shipment mode had significant differences in pack prices. To pinpoint which categories had differences, you could instead use **pairwise t-tests**."
   ]
  },
  {
   "cell_type": "code",
   "execution_count": 28,
   "id": "fcdcabe8",
   "metadata": {},
   "outputs": [
    {
     "name": "stdout",
     "output_type": "stream",
     "text": [
      "        Contrast            A            B  Paired  Parametric          T  \\\n",
      "0  shipment_mode          Air  Air Charter   False        True  21.179625   \n",
      "1  shipment_mode          Air        Ocean   False        True  19.335760   \n",
      "2  shipment_mode  Air Charter        Ocean   False        True  -3.170654   \n",
      "\n",
      "          dof alternative         p-unc       BF10    hedges  \n",
      "0  600.685682   two-sided  8.748346e-75  5.809e+76  0.726592  \n",
      "1  986.979785   two-sided  6.934555e-71  1.129e+67  0.711119  \n",
      "2   35.615026   two-sided  3.123012e-03     15.277 -0.423775  \n"
     ]
    }
   ],
   "source": [
    "# Perform a pairwise t-test on pack price, grouped by shipment mode\n",
    "pairwise_results = pingouin.pairwise_tests(data=late_shipments, dv='pack_price',\n",
    "                                           between='shipment_mode',alternative='two-sided') \n",
    "\n",
    "# Print pairwise_results\n",
    "print(pairwise_results)"
   ]
  },
  {
   "cell_type": "code",
   "execution_count": 29,
   "id": "f58f30df",
   "metadata": {},
   "outputs": [
    {
     "name": "stdout",
     "output_type": "stream",
     "text": [
      "        Contrast            A            B  Paired  Parametric          T  \\\n",
      "0  shipment_mode          Air  Air Charter   False        True  21.179625   \n",
      "1  shipment_mode          Air        Ocean   False        True  19.335760   \n",
      "2  shipment_mode  Air Charter        Ocean   False        True  -3.170654   \n",
      "\n",
      "          dof alternative         p-unc        p-corr p-adjust       BF10  \\\n",
      "0  600.685682   two-sided  8.748346e-75  2.624504e-74     bonf  5.809e+76   \n",
      "1  986.979785   two-sided  6.934555e-71  2.080367e-70     bonf  1.129e+67   \n",
      "2   35.615026   two-sided  3.123012e-03  9.369037e-03     bonf     15.277   \n",
      "\n",
      "     hedges  \n",
      "0  0.726592  \n",
      "1  0.711119  \n",
      "2 -0.423775  \n"
     ]
    }
   ],
   "source": [
    "# Modify the pairwise t-tests to use Bonferroni p-value adjustment\n",
    "pairwise_results = pingouin.pairwise_tests(data=late_shipments, \n",
    "                                           dv=\"pack_price\",\n",
    "                                           between=\"shipment_mode\",\n",
    "                                           padjust=\"bonf\")\n",
    "\n",
    "# Print pairwise_results\n",
    "print(pairwise_results)"
   ]
  },
  {
   "cell_type": "markdown",
   "id": "38cb2094",
   "metadata": {},
   "source": [
    "- Comment : All the paired groups' ${p} < 0.1$, Reject the null hypothesis between all."
   ]
  },
  {
   "cell_type": "markdown",
   "id": "9a6a6d1e",
   "metadata": {},
   "source": [
    "### One-sample Proportion test\n",
    "A bootstrap distribution can be computationally expensive to calculate, so this time we'll instead calculate the test statistic without it.\n",
    "\n",
    "#### Standardized test statistic for proportion ${z}$\n",
    "- ${p}$ : Population proportion (unknown population parameter)\n",
    "- ${\\hat{p}}$ ; Sample statistic\n",
    "- ${p_0}$ : Hypothesized population proportion\n",
    "\n",
    "     ### ${z} = \\frac{\\hat{p} - mean(\\hat{p})}{SE(\\hat{p})}$ = $\\frac{\\hat{p} - p}{SE(\\hat{p})}$ <br>\n",
    "- Assuming ${H_0}$ is true, ${p} = {p_0}$, so <br>\n",
    "     ### ${z} = \\frac{\\hat{p} - ({p_0})}{SE(\\hat{p})}$\n",
    "     ### ${z} = \\frac{\\hat{p} - ({p_0})}{\\sqrt{\\frac{p_0 * (1 - {P_0})}{n}}}$"
   ]
  },
  {
   "cell_type": "markdown",
   "id": "0b772be4",
   "metadata": {},
   "source": [
    "### late shipment data\n",
    "- ${H_0}$ : the proportion of late shipments is 6%.\n",
    "- ${H_1}$ : the proportion of late shipments is **greater** than 6%.\n",
    "- Set $\\alpha = 0.05$ --> 95% confidence interval."
   ]
  },
  {
   "cell_type": "code",
   "execution_count": 30,
   "id": "a13400e1",
   "metadata": {},
   "outputs": [
    {
     "name": "stdout",
     "output_type": "stream",
     "text": [
      "0.061 1000\n"
     ]
    }
   ],
   "source": [
    "# Hypothesize that the proportion of late shipments is 6%\n",
    "p_0 = 0.06\n",
    "\n",
    "# Calculate the sample proportion of late shipments\n",
    "p_hat = (late_shipments['late'] == \"Yes\").mean()\n",
    "\n",
    "# Calculate the sample size\n",
    "n = len(late_shipments)\n",
    "\n",
    "# Print p_hat and n\n",
    "print(p_hat, n)"
   ]
  },
  {
   "cell_type": "code",
   "execution_count": 31,
   "id": "e99bc366",
   "metadata": {},
   "outputs": [
    {
     "name": "stdout",
     "output_type": "stream",
     "text": [
      "0.13315591032282698\n"
     ]
    }
   ],
   "source": [
    "# Calculate the numerator and denominator of the test statistic\n",
    "numerator = p_hat-p_0\n",
    "denominator = np.sqrt(p_0*(1-p_0)/n)\n",
    "\n",
    "# Calculate the test statistic\n",
    "z_score = numerator/denominator\n",
    "\n",
    "# Print the result\n",
    "print(z_score)"
   ]
  },
  {
   "cell_type": "code",
   "execution_count": 32,
   "id": "17f23332",
   "metadata": {},
   "outputs": [
    {
     "name": "stdout",
     "output_type": "stream",
     "text": [
      "0.44703503936503364\n"
     ]
    }
   ],
   "source": [
    "# Calculate the p-value from the z-score\n",
    "p_value = 1- norm.cdf(z_score,0,1)\n",
    "\n",
    "# Print the p-value\n",
    "print(p_value)"
   ]
  },
  {
   "cell_type": "markdown",
   "id": "7fe0386b",
   "metadata": {},
   "source": [
    "### Two-sample Proportion test\n",
    "**Question** : Whether the amount paid for shipping affects whether the shipment is delayed. \n",
    "In the `late_shipments` dataset, whether or not the shipment was late is stored in the `late` column. Freight costs are stored in the `freight_cost_group` column, and the categories are `expensive` and `reasonable`.\n",
    "\n",
    "The hypotheses to test, with `late` corresponding to the proportion of late shipments for that group, are\n",
    "\n",
    "- ${H_0}$ : ${late_{expensive}}  - {late_{reasonable}} = 0$\n",
    "- ${H_1}$ : ${late_{expensive}}  - {late_{reasonable}} > 0$\n",
    "\n",
    "`p_hats` contains the estimates of population proportions (sample proportions) for each `freight_cost_group`:"
   ]
  },
  {
   "cell_type": "code",
   "execution_count": 33,
   "id": "1ab7067e",
   "metadata": {
    "scrolled": true
   },
   "outputs": [
    {
     "data": {
      "text/html": [
       "<div>\n",
       "<style scoped>\n",
       "    .dataframe tbody tr th:only-of-type {\n",
       "        vertical-align: middle;\n",
       "    }\n",
       "\n",
       "    .dataframe tbody tr th {\n",
       "        vertical-align: top;\n",
       "    }\n",
       "\n",
       "    .dataframe thead th {\n",
       "        text-align: right;\n",
       "    }\n",
       "</style>\n",
       "<table border=\"1\" class=\"dataframe\">\n",
       "  <thead>\n",
       "    <tr style=\"text-align: right;\">\n",
       "      <th></th>\n",
       "      <th>id</th>\n",
       "      <th>country</th>\n",
       "      <th>managed_by</th>\n",
       "      <th>fulfill_via</th>\n",
       "      <th>vendor_inco_term</th>\n",
       "      <th>shipment_mode</th>\n",
       "      <th>late_delivery</th>\n",
       "      <th>late</th>\n",
       "      <th>product_group</th>\n",
       "      <th>sub_classification</th>\n",
       "      <th>vendor</th>\n",
       "      <th>item_description</th>\n",
       "      <th>molecule_test_type</th>\n",
       "      <th>brand</th>\n",
       "      <th>dosage</th>\n",
       "      <th>dosage_form</th>\n",
       "      <th>unit_of_measure_per_pack</th>\n",
       "      <th>line_item_quantity</th>\n",
       "      <th>line_item_value</th>\n",
       "      <th>pack_price</th>\n",
       "      <th>unit_price</th>\n",
       "      <th>manufacturing_site</th>\n",
       "      <th>first_line_designation</th>\n",
       "      <th>weight_kilograms</th>\n",
       "      <th>freight_cost_usd</th>\n",
       "      <th>freight_cost_groups</th>\n",
       "      <th>line_item_insurance_usd</th>\n",
       "    </tr>\n",
       "  </thead>\n",
       "  <tbody>\n",
       "    <tr>\n",
       "      <th>0</th>\n",
       "      <td>36203.0</td>\n",
       "      <td>Nigeria</td>\n",
       "      <td>PMO - US</td>\n",
       "      <td>Direct Drop</td>\n",
       "      <td>EXW</td>\n",
       "      <td>Air</td>\n",
       "      <td>1.0</td>\n",
       "      <td>Yes</td>\n",
       "      <td>HRDT</td>\n",
       "      <td>HIV test</td>\n",
       "      <td>Orgenics, Ltd</td>\n",
       "      <td>HIV 1/2, Determine Complete HIV Kit, 100 Tests</td>\n",
       "      <td>HIV 1/2, Determine Complete HIV Kit</td>\n",
       "      <td>Determine</td>\n",
       "      <td>N/A</td>\n",
       "      <td>Test kit</td>\n",
       "      <td>100.0</td>\n",
       "      <td>2996.0</td>\n",
       "      <td>266644.00</td>\n",
       "      <td>89.00</td>\n",
       "      <td>0.89</td>\n",
       "      <td>Alere Medical Co., Ltd.</td>\n",
       "      <td>Yes</td>\n",
       "      <td>1426.0</td>\n",
       "      <td>33279.83</td>\n",
       "      <td>expensive</td>\n",
       "      <td>373.83</td>\n",
       "    </tr>\n",
       "    <tr>\n",
       "      <th>1</th>\n",
       "      <td>30998.0</td>\n",
       "      <td>Botswana</td>\n",
       "      <td>PMO - US</td>\n",
       "      <td>Direct Drop</td>\n",
       "      <td>EXW</td>\n",
       "      <td>Air</td>\n",
       "      <td>0.0</td>\n",
       "      <td>No</td>\n",
       "      <td>HRDT</td>\n",
       "      <td>HIV test</td>\n",
       "      <td>Trinity Biotech, Plc</td>\n",
       "      <td>HIV 1/2, Uni-Gold HIV Kit, 20 Tests</td>\n",
       "      <td>HIV 1/2, Uni-Gold HIV Kit</td>\n",
       "      <td>Uni-Gold</td>\n",
       "      <td>N/A</td>\n",
       "      <td>Test kit</td>\n",
       "      <td>20.0</td>\n",
       "      <td>25.0</td>\n",
       "      <td>800.00</td>\n",
       "      <td>32.00</td>\n",
       "      <td>1.60</td>\n",
       "      <td>Trinity Biotech, Plc</td>\n",
       "      <td>Yes</td>\n",
       "      <td>10.0</td>\n",
       "      <td>559.89</td>\n",
       "      <td>reasonable</td>\n",
       "      <td>1.72</td>\n",
       "    </tr>\n",
       "    <tr>\n",
       "      <th>2</th>\n",
       "      <td>69871.0</td>\n",
       "      <td>Vietnam</td>\n",
       "      <td>PMO - US</td>\n",
       "      <td>Direct Drop</td>\n",
       "      <td>EXW</td>\n",
       "      <td>Air</td>\n",
       "      <td>0.0</td>\n",
       "      <td>No</td>\n",
       "      <td>ARV</td>\n",
       "      <td>Adult</td>\n",
       "      <td>HETERO LABS LIMITED</td>\n",
       "      <td>Lamivudine/Nevirapine/Stavudine 150/200/30mg, ...</td>\n",
       "      <td>Lamivudine/Nevirapine/Stavudine</td>\n",
       "      <td>Generic</td>\n",
       "      <td>150/200/30mg</td>\n",
       "      <td>Tablet - FDC</td>\n",
       "      <td>60.0</td>\n",
       "      <td>22925.0</td>\n",
       "      <td>110040.00</td>\n",
       "      <td>4.80</td>\n",
       "      <td>0.08</td>\n",
       "      <td>Hetero Unit III Hyderabad IN</td>\n",
       "      <td>Yes</td>\n",
       "      <td>3723.0</td>\n",
       "      <td>19056.13</td>\n",
       "      <td>expensive</td>\n",
       "      <td>181.57</td>\n",
       "    </tr>\n",
       "    <tr>\n",
       "      <th>3</th>\n",
       "      <td>17648.0</td>\n",
       "      <td>South Africa</td>\n",
       "      <td>PMO - US</td>\n",
       "      <td>Direct Drop</td>\n",
       "      <td>DDP</td>\n",
       "      <td>Ocean</td>\n",
       "      <td>0.0</td>\n",
       "      <td>No</td>\n",
       "      <td>ARV</td>\n",
       "      <td>Adult</td>\n",
       "      <td>Aurobindo Pharma Limited</td>\n",
       "      <td>Lamivudine 150mg, tablets, 60 Tabs</td>\n",
       "      <td>Lamivudine</td>\n",
       "      <td>Generic</td>\n",
       "      <td>150mg</td>\n",
       "      <td>Tablet</td>\n",
       "      <td>60.0</td>\n",
       "      <td>152535.0</td>\n",
       "      <td>361507.95</td>\n",
       "      <td>2.37</td>\n",
       "      <td>0.04</td>\n",
       "      <td>Aurobindo Unit III, India</td>\n",
       "      <td>Yes</td>\n",
       "      <td>7698.0</td>\n",
       "      <td>11372.23</td>\n",
       "      <td>expensive</td>\n",
       "      <td>779.41</td>\n",
       "    </tr>\n",
       "    <tr>\n",
       "      <th>4</th>\n",
       "      <td>5647.0</td>\n",
       "      <td>Uganda</td>\n",
       "      <td>PMO - US</td>\n",
       "      <td>Direct Drop</td>\n",
       "      <td>EXW</td>\n",
       "      <td>Air</td>\n",
       "      <td>0.0</td>\n",
       "      <td>No</td>\n",
       "      <td>HRDT</td>\n",
       "      <td>HIV test - Ancillary</td>\n",
       "      <td>Orgenics, Ltd</td>\n",
       "      <td>HIV, Lancet, Safety, for HIV Test kits, 100 Pcs</td>\n",
       "      <td>HIV, Lancet, Safety, for HIV Test kits, 100 Pcs</td>\n",
       "      <td>Generic</td>\n",
       "      <td>N/A</td>\n",
       "      <td>Test kit - Ancillary</td>\n",
       "      <td>100.0</td>\n",
       "      <td>850.0</td>\n",
       "      <td>8.50</td>\n",
       "      <td>0.01</td>\n",
       "      <td>0.00</td>\n",
       "      <td>Inverness Japan</td>\n",
       "      <td>Yes</td>\n",
       "      <td>56.0</td>\n",
       "      <td>360.00</td>\n",
       "      <td>reasonable</td>\n",
       "      <td>0.01</td>\n",
       "    </tr>\n",
       "  </tbody>\n",
       "</table>\n",
       "</div>"
      ],
      "text/plain": [
       "        id       country managed_by  fulfill_via vendor_inco_term  \\\n",
       "0  36203.0       Nigeria   PMO - US  Direct Drop              EXW   \n",
       "1  30998.0      Botswana   PMO - US  Direct Drop              EXW   \n",
       "2  69871.0       Vietnam   PMO - US  Direct Drop              EXW   \n",
       "3  17648.0  South Africa   PMO - US  Direct Drop              DDP   \n",
       "4   5647.0        Uganda   PMO - US  Direct Drop              EXW   \n",
       "\n",
       "  shipment_mode  late_delivery late product_group    sub_classification  \\\n",
       "0           Air            1.0  Yes          HRDT              HIV test   \n",
       "1           Air            0.0   No          HRDT              HIV test   \n",
       "2           Air            0.0   No           ARV                 Adult   \n",
       "3         Ocean            0.0   No           ARV                 Adult   \n",
       "4           Air            0.0   No          HRDT  HIV test - Ancillary   \n",
       "\n",
       "                     vendor  \\\n",
       "0             Orgenics, Ltd   \n",
       "1      Trinity Biotech, Plc   \n",
       "2       HETERO LABS LIMITED   \n",
       "3  Aurobindo Pharma Limited   \n",
       "4             Orgenics, Ltd   \n",
       "\n",
       "                                    item_description  \\\n",
       "0     HIV 1/2, Determine Complete HIV Kit, 100 Tests   \n",
       "1                HIV 1/2, Uni-Gold HIV Kit, 20 Tests   \n",
       "2  Lamivudine/Nevirapine/Stavudine 150/200/30mg, ...   \n",
       "3                 Lamivudine 150mg, tablets, 60 Tabs   \n",
       "4    HIV, Lancet, Safety, for HIV Test kits, 100 Pcs   \n",
       "\n",
       "                                molecule_test_type      brand        dosage  \\\n",
       "0              HIV 1/2, Determine Complete HIV Kit  Determine           N/A   \n",
       "1                        HIV 1/2, Uni-Gold HIV Kit   Uni-Gold           N/A   \n",
       "2                  Lamivudine/Nevirapine/Stavudine    Generic  150/200/30mg   \n",
       "3                                       Lamivudine    Generic         150mg   \n",
       "4  HIV, Lancet, Safety, for HIV Test kits, 100 Pcs    Generic           N/A   \n",
       "\n",
       "            dosage_form  unit_of_measure_per_pack  line_item_quantity  \\\n",
       "0              Test kit                     100.0              2996.0   \n",
       "1              Test kit                      20.0                25.0   \n",
       "2          Tablet - FDC                      60.0             22925.0   \n",
       "3                Tablet                      60.0            152535.0   \n",
       "4  Test kit - Ancillary                     100.0               850.0   \n",
       "\n",
       "   line_item_value  pack_price  unit_price            manufacturing_site  \\\n",
       "0        266644.00       89.00        0.89       Alere Medical Co., Ltd.   \n",
       "1           800.00       32.00        1.60          Trinity Biotech, Plc   \n",
       "2        110040.00        4.80        0.08  Hetero Unit III Hyderabad IN   \n",
       "3        361507.95        2.37        0.04     Aurobindo Unit III, India   \n",
       "4             8.50        0.01        0.00               Inverness Japan   \n",
       "\n",
       "  first_line_designation  weight_kilograms  freight_cost_usd  \\\n",
       "0                    Yes            1426.0          33279.83   \n",
       "1                    Yes              10.0            559.89   \n",
       "2                    Yes            3723.0          19056.13   \n",
       "3                    Yes            7698.0          11372.23   \n",
       "4                    Yes              56.0            360.00   \n",
       "\n",
       "  freight_cost_groups  line_item_insurance_usd  \n",
       "0           expensive                   373.83  \n",
       "1          reasonable                     1.72  \n",
       "2           expensive                   181.57  \n",
       "3           expensive                   779.41  \n",
       "4          reasonable                     0.01  "
      ]
     },
     "execution_count": 33,
     "metadata": {},
     "output_type": "execute_result"
    }
   ],
   "source": [
    "late_shipments.head()"
   ]
  },
  {
   "cell_type": "code",
   "execution_count": 34,
   "id": "0f2ddc37",
   "metadata": {},
   "outputs": [
    {
     "data": {
      "text/plain": [
       "freight_cost_groups\n",
       "expensive     0.079096\n",
       "reasonable    0.035165\n",
       "Name: Yes, dtype: float64"
      ]
     },
     "execution_count": 34,
     "metadata": {},
     "output_type": "execute_result"
    }
   ],
   "source": [
    "p_hats = late_shipments.groupby('freight_cost_groups')['late'].value_counts(normalize=True).unstack()['Yes']\n",
    "p_hats"
   ]
  },
  {
   "cell_type": "code",
   "execution_count": 35,
   "id": "98096c2e",
   "metadata": {},
   "outputs": [
    {
     "data": {
      "text/plain": [
       "freight_cost_groups\n",
       "expensive     531\n",
       "reasonable    455\n",
       "Name: late, dtype: int64"
      ]
     },
     "execution_count": 35,
     "metadata": {},
     "output_type": "execute_result"
    }
   ],
   "source": [
    "ns = late_shipments.groupby(\"freight_cost_groups\")['late'].count()\n",
    "ns"
   ]
  },
  {
   "cell_type": "code",
   "execution_count": 36,
   "id": "2dd80f37",
   "metadata": {},
   "outputs": [
    {
     "name": "stdout",
     "output_type": "stream",
     "text": [
      "0.058823529411764705\n"
     ]
    }
   ],
   "source": [
    "# Calculate the pooled estimate of the population proportion\n",
    "p_hat = (p_hats[\"reasonable\"] * ns[\"reasonable\"] + p_hats[\"expensive\"] * ns[\"expensive\"])/(ns[\"reasonable\"] + ns[\"expensive\"])\n",
    "\n",
    "# Print the result\n",
    "print(p_hat)"
   ]
  },
  {
   "cell_type": "code",
   "execution_count": 37,
   "id": "e7310425",
   "metadata": {},
   "outputs": [
    {
     "name": "stdout",
     "output_type": "stream",
     "text": [
      "0.015031300895066685\n"
     ]
    }
   ],
   "source": [
    "# Calculate p_hat one minus p_hat\n",
    "p_hat_times_not_p_hat = p_hat * (1 - p_hat)\n",
    "\n",
    "# Divide this by each of the sample sizes and then sum\n",
    "p_hat_times_not_p_hat_over_ns = p_hat_times_not_p_hat / ns[\"expensive\"] + p_hat_times_not_p_hat / ns[\"reasonable\"]\n",
    "\n",
    "# Calculate the standard error\n",
    "std_error = np.sqrt(p_hat_times_not_p_hat_over_ns)\n",
    "\n",
    "# Print the result\n",
    "print(std_error)"
   ]
  },
  {
   "cell_type": "code",
   "execution_count": 38,
   "id": "2418dc7f",
   "metadata": {},
   "outputs": [
    {
     "name": "stdout",
     "output_type": "stream",
     "text": [
      "2.922648567784529\n"
     ]
    }
   ],
   "source": [
    "# Calculate the z-score\n",
    "z_score = (p_hats[\"expensive\"]-p_hats[\"reasonable\"] )/std_error\n",
    "\n",
    "# Print z_score\n",
    "print(z_score)"
   ]
  },
  {
   "cell_type": "code",
   "execution_count": 39,
   "id": "57adb940",
   "metadata": {
    "scrolled": true
   },
   "outputs": [
    {
     "name": "stdout",
     "output_type": "stream",
     "text": [
      "0.0017353400023595311\n"
     ]
    }
   ],
   "source": [
    "# Calculate the p-value from the z-score\n",
    "p_value = 1-norm.cdf(z_score,0,1)\n",
    "\n",
    "# Print p_value\n",
    "print(p_value)"
   ]
  },
  {
   "cell_type": "markdown",
   "id": "e91c0339",
   "metadata": {},
   "source": [
    "#### Using `proportions_ztest` library"
   ]
  },
  {
   "cell_type": "code",
   "execution_count": 40,
   "id": "1c2bce03",
   "metadata": {},
   "outputs": [
    {
     "name": "stdout",
     "output_type": "stream",
     "text": [
      "freight_cost_groups  late\n",
      "expensive            No      489\n",
      "                     Yes      42\n",
      "reasonable           No      439\n",
      "                     Yes      16\n",
      "Name: count, dtype: int64\n"
     ]
    }
   ],
   "source": [
    "# Count the late column values for each freight_cost_group\n",
    "late_by_freight_cost_group = late_shipments.groupby('freight_cost_groups')['late'].value_counts()\n",
    "\n",
    "# Print the counts\n",
    "print(late_by_freight_cost_group)"
   ]
  },
  {
   "cell_type": "code",
   "execution_count": 41,
   "id": "1ac3b7d7",
   "metadata": {},
   "outputs": [
    {
     "name": "stdout",
     "output_type": "stream",
     "text": [
      "2.922648567784529 0.001735340002359578\n"
     ]
    }
   ],
   "source": [
    "from statsmodels.stats.proportion import proportions_ztest\n",
    "\n",
    "# Create an array of the \"Yes\" counts for each freight_cost_groups\n",
    "success_counts = np.array([42, 16])\n",
    "\n",
    "# Create an array of the total number of rows in each freight_cost_groups\n",
    "n = np.array([42 + 489, 16 + 439])\n",
    "\n",
    "# Run a z-test on the two proportions\n",
    "stat, p_value = proportions_ztest(count=success_counts, nobs=n,\n",
    "                                  alternative=\"larger\")\n",
    "# Print the results\n",
    "print(stat, p_value)"
   ]
  },
  {
   "cell_type": "markdown",
   "id": "f2775a93",
   "metadata": {},
   "source": [
    "### Chi-square Test\n",
    "- To test for independence of variables\n",
    "- Chi-square result is equal to (z-score) $^2$\n",
    "- The chi-square independence test compares proportions of successes of one categorical variable across the categories of another categorical variable. <br>\n",
    "\n",
    "**Question** : Trade deals often use a form of business shorthand in order to specify the exact details of their contract. These are International Chamber of Commerce (ICC) international commercial terms, or incoterms for short. <br>\n",
    "The `late_shipments` dataset includes a `vendor_inco_term` that describes the incoterms that applied to a given shipment. The choices are:<br>\n",
    "- `EXW`: \"Ex works\". The buyer pays for transportation of the goods. <br>\n",
    "- `CIP`: \"Carriage and insurance paid to\". The seller pays for freight and insurance until the goods board a ship. <br>\n",
    "- `DDP`: \"Delivered duty paid\". The seller pays for transportation of the goods until they reach a destination port. <br>\n",
    "- `FCA`: \"Free carrier\". The seller pays for transportation of the goods. <br><br>\n",
    "\n",
    "- ${H_0}$ : `vendor_inco_term` and `freight_cost_groups` are independent.\n",
    "- ${H_1}$ : `vendor_inco_term` and `freight_cost_groups` are associated.\n",
    "- Significance level = `0.01`"
   ]
  },
  {
   "cell_type": "code",
   "execution_count": 42,
   "id": "469bd8c9",
   "metadata": {},
   "outputs": [
    {
     "data": {
      "text/html": [
       "<div>\n",
       "<style scoped>\n",
       "    .dataframe tbody tr th:only-of-type {\n",
       "        vertical-align: middle;\n",
       "    }\n",
       "\n",
       "    .dataframe tbody tr th {\n",
       "        vertical-align: top;\n",
       "    }\n",
       "\n",
       "    .dataframe thead th {\n",
       "        text-align: right;\n",
       "    }\n",
       "</style>\n",
       "<table border=\"1\" class=\"dataframe\">\n",
       "  <thead>\n",
       "    <tr style=\"text-align: right;\">\n",
       "      <th></th>\n",
       "      <th>id</th>\n",
       "      <th>country</th>\n",
       "      <th>managed_by</th>\n",
       "      <th>fulfill_via</th>\n",
       "      <th>vendor_inco_term</th>\n",
       "      <th>shipment_mode</th>\n",
       "      <th>late_delivery</th>\n",
       "      <th>late</th>\n",
       "      <th>product_group</th>\n",
       "      <th>sub_classification</th>\n",
       "      <th>vendor</th>\n",
       "      <th>item_description</th>\n",
       "      <th>molecule_test_type</th>\n",
       "      <th>brand</th>\n",
       "      <th>dosage</th>\n",
       "      <th>dosage_form</th>\n",
       "      <th>unit_of_measure_per_pack</th>\n",
       "      <th>line_item_quantity</th>\n",
       "      <th>line_item_value</th>\n",
       "      <th>pack_price</th>\n",
       "      <th>unit_price</th>\n",
       "      <th>manufacturing_site</th>\n",
       "      <th>first_line_designation</th>\n",
       "      <th>weight_kilograms</th>\n",
       "      <th>freight_cost_usd</th>\n",
       "      <th>freight_cost_groups</th>\n",
       "      <th>line_item_insurance_usd</th>\n",
       "    </tr>\n",
       "  </thead>\n",
       "  <tbody>\n",
       "    <tr>\n",
       "      <th>0</th>\n",
       "      <td>36203.0</td>\n",
       "      <td>Nigeria</td>\n",
       "      <td>PMO - US</td>\n",
       "      <td>Direct Drop</td>\n",
       "      <td>EXW</td>\n",
       "      <td>Air</td>\n",
       "      <td>1.0</td>\n",
       "      <td>Yes</td>\n",
       "      <td>HRDT</td>\n",
       "      <td>HIV test</td>\n",
       "      <td>Orgenics, Ltd</td>\n",
       "      <td>HIV 1/2, Determine Complete HIV Kit, 100 Tests</td>\n",
       "      <td>HIV 1/2, Determine Complete HIV Kit</td>\n",
       "      <td>Determine</td>\n",
       "      <td>N/A</td>\n",
       "      <td>Test kit</td>\n",
       "      <td>100.0</td>\n",
       "      <td>2996.0</td>\n",
       "      <td>266644.00</td>\n",
       "      <td>89.00</td>\n",
       "      <td>0.89</td>\n",
       "      <td>Alere Medical Co., Ltd.</td>\n",
       "      <td>Yes</td>\n",
       "      <td>1426.0</td>\n",
       "      <td>33279.83</td>\n",
       "      <td>expensive</td>\n",
       "      <td>373.83</td>\n",
       "    </tr>\n",
       "    <tr>\n",
       "      <th>1</th>\n",
       "      <td>30998.0</td>\n",
       "      <td>Botswana</td>\n",
       "      <td>PMO - US</td>\n",
       "      <td>Direct Drop</td>\n",
       "      <td>EXW</td>\n",
       "      <td>Air</td>\n",
       "      <td>0.0</td>\n",
       "      <td>No</td>\n",
       "      <td>HRDT</td>\n",
       "      <td>HIV test</td>\n",
       "      <td>Trinity Biotech, Plc</td>\n",
       "      <td>HIV 1/2, Uni-Gold HIV Kit, 20 Tests</td>\n",
       "      <td>HIV 1/2, Uni-Gold HIV Kit</td>\n",
       "      <td>Uni-Gold</td>\n",
       "      <td>N/A</td>\n",
       "      <td>Test kit</td>\n",
       "      <td>20.0</td>\n",
       "      <td>25.0</td>\n",
       "      <td>800.00</td>\n",
       "      <td>32.00</td>\n",
       "      <td>1.60</td>\n",
       "      <td>Trinity Biotech, Plc</td>\n",
       "      <td>Yes</td>\n",
       "      <td>10.0</td>\n",
       "      <td>559.89</td>\n",
       "      <td>reasonable</td>\n",
       "      <td>1.72</td>\n",
       "    </tr>\n",
       "    <tr>\n",
       "      <th>2</th>\n",
       "      <td>69871.0</td>\n",
       "      <td>Vietnam</td>\n",
       "      <td>PMO - US</td>\n",
       "      <td>Direct Drop</td>\n",
       "      <td>EXW</td>\n",
       "      <td>Air</td>\n",
       "      <td>0.0</td>\n",
       "      <td>No</td>\n",
       "      <td>ARV</td>\n",
       "      <td>Adult</td>\n",
       "      <td>HETERO LABS LIMITED</td>\n",
       "      <td>Lamivudine/Nevirapine/Stavudine 150/200/30mg, ...</td>\n",
       "      <td>Lamivudine/Nevirapine/Stavudine</td>\n",
       "      <td>Generic</td>\n",
       "      <td>150/200/30mg</td>\n",
       "      <td>Tablet - FDC</td>\n",
       "      <td>60.0</td>\n",
       "      <td>22925.0</td>\n",
       "      <td>110040.00</td>\n",
       "      <td>4.80</td>\n",
       "      <td>0.08</td>\n",
       "      <td>Hetero Unit III Hyderabad IN</td>\n",
       "      <td>Yes</td>\n",
       "      <td>3723.0</td>\n",
       "      <td>19056.13</td>\n",
       "      <td>expensive</td>\n",
       "      <td>181.57</td>\n",
       "    </tr>\n",
       "    <tr>\n",
       "      <th>3</th>\n",
       "      <td>17648.0</td>\n",
       "      <td>South Africa</td>\n",
       "      <td>PMO - US</td>\n",
       "      <td>Direct Drop</td>\n",
       "      <td>DDP</td>\n",
       "      <td>Ocean</td>\n",
       "      <td>0.0</td>\n",
       "      <td>No</td>\n",
       "      <td>ARV</td>\n",
       "      <td>Adult</td>\n",
       "      <td>Aurobindo Pharma Limited</td>\n",
       "      <td>Lamivudine 150mg, tablets, 60 Tabs</td>\n",
       "      <td>Lamivudine</td>\n",
       "      <td>Generic</td>\n",
       "      <td>150mg</td>\n",
       "      <td>Tablet</td>\n",
       "      <td>60.0</td>\n",
       "      <td>152535.0</td>\n",
       "      <td>361507.95</td>\n",
       "      <td>2.37</td>\n",
       "      <td>0.04</td>\n",
       "      <td>Aurobindo Unit III, India</td>\n",
       "      <td>Yes</td>\n",
       "      <td>7698.0</td>\n",
       "      <td>11372.23</td>\n",
       "      <td>expensive</td>\n",
       "      <td>779.41</td>\n",
       "    </tr>\n",
       "    <tr>\n",
       "      <th>4</th>\n",
       "      <td>5647.0</td>\n",
       "      <td>Uganda</td>\n",
       "      <td>PMO - US</td>\n",
       "      <td>Direct Drop</td>\n",
       "      <td>EXW</td>\n",
       "      <td>Air</td>\n",
       "      <td>0.0</td>\n",
       "      <td>No</td>\n",
       "      <td>HRDT</td>\n",
       "      <td>HIV test - Ancillary</td>\n",
       "      <td>Orgenics, Ltd</td>\n",
       "      <td>HIV, Lancet, Safety, for HIV Test kits, 100 Pcs</td>\n",
       "      <td>HIV, Lancet, Safety, for HIV Test kits, 100 Pcs</td>\n",
       "      <td>Generic</td>\n",
       "      <td>N/A</td>\n",
       "      <td>Test kit - Ancillary</td>\n",
       "      <td>100.0</td>\n",
       "      <td>850.0</td>\n",
       "      <td>8.50</td>\n",
       "      <td>0.01</td>\n",
       "      <td>0.00</td>\n",
       "      <td>Inverness Japan</td>\n",
       "      <td>Yes</td>\n",
       "      <td>56.0</td>\n",
       "      <td>360.00</td>\n",
       "      <td>reasonable</td>\n",
       "      <td>0.01</td>\n",
       "    </tr>\n",
       "  </tbody>\n",
       "</table>\n",
       "</div>"
      ],
      "text/plain": [
       "        id       country managed_by  fulfill_via vendor_inco_term  \\\n",
       "0  36203.0       Nigeria   PMO - US  Direct Drop              EXW   \n",
       "1  30998.0      Botswana   PMO - US  Direct Drop              EXW   \n",
       "2  69871.0       Vietnam   PMO - US  Direct Drop              EXW   \n",
       "3  17648.0  South Africa   PMO - US  Direct Drop              DDP   \n",
       "4   5647.0        Uganda   PMO - US  Direct Drop              EXW   \n",
       "\n",
       "  shipment_mode  late_delivery late product_group    sub_classification  \\\n",
       "0           Air            1.0  Yes          HRDT              HIV test   \n",
       "1           Air            0.0   No          HRDT              HIV test   \n",
       "2           Air            0.0   No           ARV                 Adult   \n",
       "3         Ocean            0.0   No           ARV                 Adult   \n",
       "4           Air            0.0   No          HRDT  HIV test - Ancillary   \n",
       "\n",
       "                     vendor  \\\n",
       "0             Orgenics, Ltd   \n",
       "1      Trinity Biotech, Plc   \n",
       "2       HETERO LABS LIMITED   \n",
       "3  Aurobindo Pharma Limited   \n",
       "4             Orgenics, Ltd   \n",
       "\n",
       "                                    item_description  \\\n",
       "0     HIV 1/2, Determine Complete HIV Kit, 100 Tests   \n",
       "1                HIV 1/2, Uni-Gold HIV Kit, 20 Tests   \n",
       "2  Lamivudine/Nevirapine/Stavudine 150/200/30mg, ...   \n",
       "3                 Lamivudine 150mg, tablets, 60 Tabs   \n",
       "4    HIV, Lancet, Safety, for HIV Test kits, 100 Pcs   \n",
       "\n",
       "                                molecule_test_type      brand        dosage  \\\n",
       "0              HIV 1/2, Determine Complete HIV Kit  Determine           N/A   \n",
       "1                        HIV 1/2, Uni-Gold HIV Kit   Uni-Gold           N/A   \n",
       "2                  Lamivudine/Nevirapine/Stavudine    Generic  150/200/30mg   \n",
       "3                                       Lamivudine    Generic         150mg   \n",
       "4  HIV, Lancet, Safety, for HIV Test kits, 100 Pcs    Generic           N/A   \n",
       "\n",
       "            dosage_form  unit_of_measure_per_pack  line_item_quantity  \\\n",
       "0              Test kit                     100.0              2996.0   \n",
       "1              Test kit                      20.0                25.0   \n",
       "2          Tablet - FDC                      60.0             22925.0   \n",
       "3                Tablet                      60.0            152535.0   \n",
       "4  Test kit - Ancillary                     100.0               850.0   \n",
       "\n",
       "   line_item_value  pack_price  unit_price            manufacturing_site  \\\n",
       "0        266644.00       89.00        0.89       Alere Medical Co., Ltd.   \n",
       "1           800.00       32.00        1.60          Trinity Biotech, Plc   \n",
       "2        110040.00        4.80        0.08  Hetero Unit III Hyderabad IN   \n",
       "3        361507.95        2.37        0.04     Aurobindo Unit III, India   \n",
       "4             8.50        0.01        0.00               Inverness Japan   \n",
       "\n",
       "  first_line_designation  weight_kilograms  freight_cost_usd  \\\n",
       "0                    Yes            1426.0          33279.83   \n",
       "1                    Yes              10.0            559.89   \n",
       "2                    Yes            3723.0          19056.13   \n",
       "3                    Yes            7698.0          11372.23   \n",
       "4                    Yes              56.0            360.00   \n",
       "\n",
       "  freight_cost_groups  line_item_insurance_usd  \n",
       "0           expensive                   373.83  \n",
       "1          reasonable                     1.72  \n",
       "2           expensive                   181.57  \n",
       "3           expensive                   779.41  \n",
       "4          reasonable                     0.01  "
      ]
     },
     "execution_count": 42,
     "metadata": {},
     "output_type": "execute_result"
    }
   ],
   "source": [
    "late_shipments.head()"
   ]
  },
  {
   "cell_type": "code",
   "execution_count": 43,
   "id": "adb2976c",
   "metadata": {},
   "outputs": [
    {
     "data": {
      "text/plain": [
       "vendor_inco_term  freight_cost_groups\n",
       "CIP               reasonable             0.680000\n",
       "                  expensive              0.320000\n",
       "DDP               expensive              0.550000\n",
       "                  reasonable             0.450000\n",
       "DDU               reasonable             1.000000\n",
       "EXW               expensive              0.583448\n",
       "                  reasonable             0.416552\n",
       "FCA               reasonable             0.663636\n",
       "                  expensive              0.336364\n",
       "Name: proportion, dtype: float64"
      ]
     },
     "execution_count": 43,
     "metadata": {},
     "output_type": "execute_result"
    }
   ],
   "source": [
    "# Proportion of freight_cost_group grouped by vendor_inco_term\n",
    "props = late_shipments.groupby('vendor_inco_term')['freight_cost_groups'].value_counts(normalize=True)\n",
    "props"
   ]
  },
  {
   "cell_type": "code",
   "execution_count": 44,
   "id": "d6a3b189",
   "metadata": {},
   "outputs": [
    {
     "name": "stdout",
     "output_type": "stream",
     "text": [
      "freight_cost_groups  expensive  reasonable\n",
      "vendor_inco_term                          \n",
      "CIP                   0.320000    0.680000\n",
      "DDP                   0.550000    0.450000\n",
      "DDU                        NaN    1.000000\n",
      "EXW                   0.583448    0.416552\n",
      "FCA                   0.336364    0.663636\n"
     ]
    }
   ],
   "source": [
    "# Convert props to wide format\n",
    "wide_props = props.unstack()\n",
    "print(wide_props)"
   ]
  },
  {
   "cell_type": "code",
   "execution_count": 45,
   "id": "5413d0de",
   "metadata": {},
   "outputs": [
    {
     "data": {
      "image/png": "[encoded data removed]",
      "text/plain": [
       "<Figure size 640x480 with 1 Axes>"
      ]
     },
     "metadata": {},
     "output_type": "display_data"
    }
   ],
   "source": [
    "# Proportional stacked bar plot of freight_cost_group vs. vendor_inco_term\n",
    "wide_props.plot(kind='bar', stacked=True)\n",
    "plt.show()"
   ]
  },
  {
   "cell_type": "code",
   "execution_count": 46,
   "id": "56e4584f",
   "metadata": {
    "scrolled": true
   },
   "outputs": [
    {
     "name": "stdout",
     "output_type": "stream",
     "text": [
      "      test  lambda       chi2  dof          pval    cramer     power\n",
      "0  pearson     1.0  34.805072  4.0  5.093922e-07  0.186561  0.999235\n"
     ]
    },
    {
     "name": "stderr",
     "output_type": "stream",
     "text": [
      "/Library/Frameworks/Python.framework/Versions/3.11/lib/python3.11/site-packages/pingouin/contingency.py:150: UserWarning: Low count on observed frequencies.\n",
      "  warnings.warn(\"Low count on {} frequencies.\".format(name))\n",
      "/Library/Frameworks/Python.framework/Versions/3.11/lib/python3.11/site-packages/pingouin/contingency.py:150: UserWarning: Low count on expected frequencies.\n",
      "  warnings.warn(\"Low count on {} frequencies.\".format(name))\n",
      "/Library/Frameworks/Python.framework/Versions/3.11/lib/python3.11/site-packages/scipy/stats/_stats_py.py:8073: RuntimeWarning: divide by zero encountered in power\n",
      "  terms = f_obs * ((f_obs / f_exp)**lambda_ - 1)\n",
      "/Library/Frameworks/Python.framework/Versions/3.11/lib/python3.11/site-packages/scipy/stats/_stats_py.py:8073: RuntimeWarning: invalid value encountered in multiply\n",
      "  terms = f_obs * ((f_obs / f_exp)**lambda_ - 1)\n",
      "/Library/Frameworks/Python.framework/Versions/3.11/lib/python3.11/site-packages/scipy/stats/_stats_py.py:8070: RuntimeWarning: divide by zero encountered in divide\n",
      "  terms = 2.0 * special.xlogy(f_exp, f_exp / f_obs)\n"
     ]
    }
   ],
   "source": [
    "expected, observed, stats = pingouin.chi2_independence(data=late_shipments, \n",
    "                                                       x='freight_cost_groups', y='vendor_inco_term')\n",
    "\n",
    "print(stats[stats['test'] == 'pearson'])"
   ]
  },
  {
   "cell_type": "markdown",
   "id": "7a7f5073",
   "metadata": {},
   "source": [
    "- Comment : Reject the null hypothesis, conclude `vendor_inco_term` and `freight_cost_groups` are associated."
   ]
  },
  {
   "cell_type": "code",
   "execution_count": 47,
   "id": "f1543244",
   "metadata": {
    "scrolled": true
   },
   "outputs": [
    {
     "data": {
      "text/html": [
       "<div>\n",
       "<style scoped>\n",
       "    .dataframe tbody tr th:only-of-type {\n",
       "        vertical-align: middle;\n",
       "    }\n",
       "\n",
       "    .dataframe tbody tr th {\n",
       "        vertical-align: top;\n",
       "    }\n",
       "\n",
       "    .dataframe thead th {\n",
       "        text-align: right;\n",
       "    }\n",
       "</style>\n",
       "<table border=\"1\" class=\"dataframe\">\n",
       "  <thead>\n",
       "    <tr style=\"text-align: right;\">\n",
       "      <th>vendor_inco_term</th>\n",
       "      <th>CIP</th>\n",
       "      <th>DDP</th>\n",
       "      <th>DDU</th>\n",
       "      <th>EXW</th>\n",
       "      <th>FCA</th>\n",
       "    </tr>\n",
       "    <tr>\n",
       "      <th>freight_cost_groups</th>\n",
       "      <th></th>\n",
       "      <th></th>\n",
       "      <th></th>\n",
       "      <th></th>\n",
       "      <th></th>\n",
       "    </tr>\n",
       "  </thead>\n",
       "  <tbody>\n",
       "    <tr>\n",
       "      <th>expensive</th>\n",
       "      <td>26.926978</td>\n",
       "      <td>53.853955</td>\n",
       "      <td>0.53854</td>\n",
       "      <td>390.441176</td>\n",
       "      <td>59.239351</td>\n",
       "    </tr>\n",
       "    <tr>\n",
       "      <th>reasonable</th>\n",
       "      <td>23.073022</td>\n",
       "      <td>46.146045</td>\n",
       "      <td>0.46146</td>\n",
       "      <td>334.558824</td>\n",
       "      <td>50.760649</td>\n",
       "    </tr>\n",
       "  </tbody>\n",
       "</table>\n",
       "</div>"
      ],
      "text/plain": [
       "vendor_inco_term           CIP        DDP      DDU         EXW        FCA\n",
       "freight_cost_groups                                                      \n",
       "expensive            26.926978  53.853955  0.53854  390.441176  59.239351\n",
       "reasonable           23.073022  46.146045  0.46146  334.558824  50.760649"
      ]
     },
     "execution_count": 47,
     "metadata": {},
     "output_type": "execute_result"
    }
   ],
   "source": [
    "expected"
   ]
  },
  {
   "cell_type": "code",
   "execution_count": 48,
   "id": "3632a022",
   "metadata": {},
   "outputs": [
    {
     "data": {
      "text/html": [
       "<div>\n",
       "<style scoped>\n",
       "    .dataframe tbody tr th:only-of-type {\n",
       "        vertical-align: middle;\n",
       "    }\n",
       "\n",
       "    .dataframe tbody tr th {\n",
       "        vertical-align: top;\n",
       "    }\n",
       "\n",
       "    .dataframe thead th {\n",
       "        text-align: right;\n",
       "    }\n",
       "</style>\n",
       "<table border=\"1\" class=\"dataframe\">\n",
       "  <thead>\n",
       "    <tr style=\"text-align: right;\">\n",
       "      <th>vendor_inco_term</th>\n",
       "      <th>CIP</th>\n",
       "      <th>DDP</th>\n",
       "      <th>DDU</th>\n",
       "      <th>EXW</th>\n",
       "      <th>FCA</th>\n",
       "    </tr>\n",
       "    <tr>\n",
       "      <th>freight_cost_groups</th>\n",
       "      <th></th>\n",
       "      <th></th>\n",
       "      <th></th>\n",
       "      <th></th>\n",
       "      <th></th>\n",
       "    </tr>\n",
       "  </thead>\n",
       "  <tbody>\n",
       "    <tr>\n",
       "      <th>expensive</th>\n",
       "      <td>16</td>\n",
       "      <td>55</td>\n",
       "      <td>0</td>\n",
       "      <td>423</td>\n",
       "      <td>37</td>\n",
       "    </tr>\n",
       "    <tr>\n",
       "      <th>reasonable</th>\n",
       "      <td>34</td>\n",
       "      <td>45</td>\n",
       "      <td>1</td>\n",
       "      <td>302</td>\n",
       "      <td>73</td>\n",
       "    </tr>\n",
       "  </tbody>\n",
       "</table>\n",
       "</div>"
      ],
      "text/plain": [
       "vendor_inco_term     CIP  DDP  DDU  EXW  FCA\n",
       "freight_cost_groups                         \n",
       "expensive             16   55    0  423   37\n",
       "reasonable            34   45    1  302   73"
      ]
     },
     "execution_count": 48,
     "metadata": {},
     "output_type": "execute_result"
    }
   ],
   "source": [
    "observed"
   ]
  },
  {
   "cell_type": "code",
   "execution_count": 49,
   "id": "020cb127",
   "metadata": {},
   "outputs": [
    {
     "data": {
      "text/html": [
       "<div>\n",
       "<style scoped>\n",
       "    .dataframe tbody tr th:only-of-type {\n",
       "        vertical-align: middle;\n",
       "    }\n",
       "\n",
       "    .dataframe tbody tr th {\n",
       "        vertical-align: top;\n",
       "    }\n",
       "\n",
       "    .dataframe thead th {\n",
       "        text-align: right;\n",
       "    }\n",
       "</style>\n",
       "<table border=\"1\" class=\"dataframe\">\n",
       "  <thead>\n",
       "    <tr style=\"text-align: right;\">\n",
       "      <th></th>\n",
       "      <th>test</th>\n",
       "      <th>lambda</th>\n",
       "      <th>chi2</th>\n",
       "      <th>dof</th>\n",
       "      <th>pval</th>\n",
       "      <th>cramer</th>\n",
       "      <th>power</th>\n",
       "    </tr>\n",
       "  </thead>\n",
       "  <tbody>\n",
       "    <tr>\n",
       "      <th>0</th>\n",
       "      <td>pearson</td>\n",
       "      <td>1.000000</td>\n",
       "      <td>34.805072</td>\n",
       "      <td>4.0</td>\n",
       "      <td>5.093922e-07</td>\n",
       "      <td>0.186561</td>\n",
       "      <td>0.999235</td>\n",
       "    </tr>\n",
       "    <tr>\n",
       "      <th>1</th>\n",
       "      <td>cressie-read</td>\n",
       "      <td>0.666667</td>\n",
       "      <td>34.845134</td>\n",
       "      <td>4.0</td>\n",
       "      <td>4.998337e-07</td>\n",
       "      <td>0.186669</td>\n",
       "      <td>0.999244</td>\n",
       "    </tr>\n",
       "    <tr>\n",
       "      <th>2</th>\n",
       "      <td>log-likelihood</td>\n",
       "      <td>0.000000</td>\n",
       "      <td>35.442911</td>\n",
       "      <td>4.0</td>\n",
       "      <td>3.767119e-07</td>\n",
       "      <td>0.188263</td>\n",
       "      <td>0.999361</td>\n",
       "    </tr>\n",
       "    <tr>\n",
       "      <th>3</th>\n",
       "      <td>freeman-tukey</td>\n",
       "      <td>-0.500000</td>\n",
       "      <td>NaN</td>\n",
       "      <td>4.0</td>\n",
       "      <td>NaN</td>\n",
       "      <td>NaN</td>\n",
       "      <td>NaN</td>\n",
       "    </tr>\n",
       "    <tr>\n",
       "      <th>4</th>\n",
       "      <td>mod-log-likelihood</td>\n",
       "      <td>-1.000000</td>\n",
       "      <td>inf</td>\n",
       "      <td>4.0</td>\n",
       "      <td>0.000000e+00</td>\n",
       "      <td>inf</td>\n",
       "      <td>NaN</td>\n",
       "    </tr>\n",
       "    <tr>\n",
       "      <th>5</th>\n",
       "      <td>neyman</td>\n",
       "      <td>-2.000000</td>\n",
       "      <td>NaN</td>\n",
       "      <td>4.0</td>\n",
       "      <td>NaN</td>\n",
       "      <td>NaN</td>\n",
       "      <td>NaN</td>\n",
       "    </tr>\n",
       "  </tbody>\n",
       "</table>\n",
       "</div>"
      ],
      "text/plain": [
       "                 test    lambda       chi2  dof          pval    cramer  \\\n",
       "0             pearson  1.000000  34.805072  4.0  5.093922e-07  0.186561   \n",
       "1        cressie-read  0.666667  34.845134  4.0  4.998337e-07  0.186669   \n",
       "2      log-likelihood  0.000000  35.442911  4.0  3.767119e-07  0.188263   \n",
       "3       freeman-tukey -0.500000        NaN  4.0           NaN       NaN   \n",
       "4  mod-log-likelihood -1.000000        inf  4.0  0.000000e+00       inf   \n",
       "5              neyman -2.000000        NaN  4.0           NaN       NaN   \n",
       "\n",
       "      power  \n",
       "0  0.999235  \n",
       "1  0.999244  \n",
       "2  0.999361  \n",
       "3       NaN  \n",
       "4       NaN  \n",
       "5       NaN  "
      ]
     },
     "execution_count": 49,
     "metadata": {},
     "output_type": "execute_result"
    }
   ],
   "source": [
    "stats"
   ]
  },
  {
   "cell_type": "code",
   "execution_count": null,
   "id": "a694ff13",
   "metadata": {},
   "outputs": [],
   "source": []
  }
 ],
 "metadata": {
  "kernelspec": {
   "display_name": "Python 3 (ipykernel)",
   "language": "python",
   "name": "python3"
  },
  "language_info": {
   "codemirror_mode": {
    "name": "ipython",
    "version": 3
   },
   "file_extension": ".py",
   "mimetype": "text/x-python",
   "name": "python",
   "nbconvert_exporter": "python",
   "pygments_lexer": "ipython3",
   "version": "3.11.4"
  }
 },
 "nbformat": 4,
 "nbformat_minor": 5
}
